{
 "cells": [
  {
   "cell_type": "markdown",
   "id": "cec5d065",
   "metadata": {},
   "source": [
    "# ONLINE APP RESTAURANT RATING PREDICTION"
   ]
  },
  {
   "cell_type": "markdown",
   "id": "8328fa2a",
   "metadata": {},
   "source": [
    "The data from an online food app, which needs assistance in predicting the future success or failure of a business (restaurant), has been used in this case study. Such that they can choose whether to delete the restaurant from their app or keep it. They have provided information from 9551 eateries from across the world that are currently accessible on their app. It contains details about the restaurants, including the overall rating.\n",
    "\n",
    "I am planning to develop a machine learning model that can forecast a restaurant's rating based on its attributes.\n",
    "\n",
    "In the case study that follows, I'll go over the step-by-step process for developing a machine learning prediction model in such circumstances."
   ]
  },
  {
   "cell_type": "markdown",
   "id": "d628982b",
   "metadata": {},
   "source": [
    "\n",
    "### The flow of the case study is as below:\n",
    "\n",
    "\n",
    "The flow of the case study is as below:\n",
    "* Reading the data in python\n",
    "* Defining the problem statement\n",
    "* Identifying the Target variable\n",
    "* Looking at the distribution of Target variable\n",
    "* Basic Data exploration\n",
    "* Rejecting useless columns\n",
    "* Visual Exploratory Data Analysis for data distribution (Histogram and Barcharts)\n",
    "* Outlier treatment\n",
    "* Missing Values treatment\n",
    "* Visual correlation analysis\n",
    "* Statistical correlation analysis (Feature Selection)\n",
    "* Converting data to numeric for ML\n",
    "* Sampling and K-fold cross validation\n",
    "* Trying multiple Regression algorithms\n",
    "* Selecting the best Model\n",
    "* Deploying the best model using streamlit"
   ]
  },
  {
   "cell_type": "markdown",
   "id": "c1562ae0",
   "metadata": {},
   "source": [
    "## Data description\n",
    " The business meaning of each column in the data is as below\n",
    "\n",
    "* <b>Restaurant ID</b>: The id for each restaurant\n",
    "*<b>Restaurant Name</b>: The brand/restaurant name\n",
    "*<b>Country Code</b>: In which country the restaurant is operating\n",
    "*<b>City</b>: In which city the restaurant is operating\n",
    "*<b>Address</b>: What is the address of the restaurant\n",
    "*<b>Locality</b>: What is the locality of the restaurant\n",
    "*<b>Locality Verbose</b>: Detailed locality description\n",
    "*<b>Longitude</b>: GPS longitude location\n",
    "*<b>Latitude</b>: GPS latitude location\n",
    "*<b>Cuisines</b>: Various type of food offered\n",
    "*<b>Currency</b>: The business currency\n",
    "*<b>Has Table booking</b>: Is advance table booking facility available?\n",
    "*<b>Has Online delivery</b>: Does they take online food orders?\n",
    "*<b>Is delivering now</b>: Is is open now?\n",
    "*<b>Switch to order menu</b>: Whether switch to order menu is available?\n",
    "*<b>Price range</b>: The price range of the restaurant\n",
    "*<b>Votes</b>: The number of people who voted for the rating\n",
    "*<b>Average Cost for two</b>: The typical cost for two people\n",
    "*<b>Rating</b>: The final rating of the restaurant"
   ]
  },
  {
   "cell_type": "code",
   "execution_count": 1,
   "id": "4bd0c1a9",
   "metadata": {},
   "outputs": [],
   "source": [
    "# Supressing the warning messages\n",
    "import warnings\n",
    "warnings.filterwarnings('ignore')"
   ]
  },
  {
   "cell_type": "code",
   "execution_count": 2,
   "id": "8da02445",
   "metadata": {},
   "outputs": [
    {
     "name": "stdout",
     "output_type": "stream",
     "text": [
      "Shape before deleting duplicate values: (9551, 19)\n",
      "Shape After deleting duplicate values: (9551, 19)\n"
     ]
    },
    {
     "data": {
      "text/html": [
       "<div>\n",
       "<style scoped>\n",
       "    .dataframe tbody tr th:only-of-type {\n",
       "        vertical-align: middle;\n",
       "    }\n",
       "\n",
       "    .dataframe tbody tr th {\n",
       "        vertical-align: top;\n",
       "    }\n",
       "\n",
       "    .dataframe thead th {\n",
       "        text-align: right;\n",
       "    }\n",
       "</style>\n",
       "<table border=\"1\" class=\"dataframe\">\n",
       "  <thead>\n",
       "    <tr style=\"text-align: right;\">\n",
       "      <th></th>\n",
       "      <th>Restaurant ID</th>\n",
       "      <th>Restaurant Name</th>\n",
       "      <th>Country Code</th>\n",
       "      <th>City</th>\n",
       "      <th>Address</th>\n",
       "      <th>Locality</th>\n",
       "      <th>Locality Verbose</th>\n",
       "      <th>Longitude</th>\n",
       "      <th>Latitude</th>\n",
       "      <th>Cuisines</th>\n",
       "      <th>Currency</th>\n",
       "      <th>Has Table booking</th>\n",
       "      <th>Has Online delivery</th>\n",
       "      <th>Is delivering now</th>\n",
       "      <th>Switch to order menu</th>\n",
       "      <th>Price range</th>\n",
       "      <th>Votes</th>\n",
       "      <th>Average Cost for two</th>\n",
       "      <th>Rating</th>\n",
       "    </tr>\n",
       "  </thead>\n",
       "  <tbody>\n",
       "    <tr>\n",
       "      <th>0</th>\n",
       "      <td>6317637</td>\n",
       "      <td>Le Petit Souffle</td>\n",
       "      <td>162</td>\n",
       "      <td>Makati City</td>\n",
       "      <td>Third Floor, Century City Mall, Kalayaan Avenu...</td>\n",
       "      <td>Century City Mall, Poblacion, Makati City</td>\n",
       "      <td>Century City Mall, Poblacion, Makati City, Mak...</td>\n",
       "      <td>121.027535</td>\n",
       "      <td>14.565443</td>\n",
       "      <td>French, Japanese, Desserts</td>\n",
       "      <td>Botswana Pula(P)</td>\n",
       "      <td>Yes</td>\n",
       "      <td>No</td>\n",
       "      <td>No</td>\n",
       "      <td>No</td>\n",
       "      <td>3</td>\n",
       "      <td>314</td>\n",
       "      <td>1100</td>\n",
       "      <td>4.8</td>\n",
       "    </tr>\n",
       "    <tr>\n",
       "      <th>1</th>\n",
       "      <td>6304287</td>\n",
       "      <td>Izakaya Kikufuji</td>\n",
       "      <td>162</td>\n",
       "      <td>Makati City</td>\n",
       "      <td>Little Tokyo, 2277 Chino Roces Avenue, Legaspi...</td>\n",
       "      <td>Little Tokyo, Legaspi Village, Makati City</td>\n",
       "      <td>Little Tokyo, Legaspi Village, Makati City, Ma...</td>\n",
       "      <td>121.014101</td>\n",
       "      <td>14.553708</td>\n",
       "      <td>Japanese</td>\n",
       "      <td>Botswana Pula(P)</td>\n",
       "      <td>Yes</td>\n",
       "      <td>No</td>\n",
       "      <td>No</td>\n",
       "      <td>No</td>\n",
       "      <td>3</td>\n",
       "      <td>591</td>\n",
       "      <td>1200</td>\n",
       "      <td>4.5</td>\n",
       "    </tr>\n",
       "    <tr>\n",
       "      <th>2</th>\n",
       "      <td>6300002</td>\n",
       "      <td>Heat - Edsa Shangri-La</td>\n",
       "      <td>162</td>\n",
       "      <td>Mandaluyong City</td>\n",
       "      <td>Edsa Shangri-La, 1 Garden Way, Ortigas, Mandal...</td>\n",
       "      <td>Edsa Shangri-La, Ortigas, Mandaluyong City</td>\n",
       "      <td>Edsa Shangri-La, Ortigas, Mandaluyong City, Ma...</td>\n",
       "      <td>121.056831</td>\n",
       "      <td>14.581404</td>\n",
       "      <td>Seafood, Asian, Filipino, Indian</td>\n",
       "      <td>Botswana Pula(P)</td>\n",
       "      <td>Yes</td>\n",
       "      <td>No</td>\n",
       "      <td>No</td>\n",
       "      <td>No</td>\n",
       "      <td>4</td>\n",
       "      <td>270</td>\n",
       "      <td>4000</td>\n",
       "      <td>4.4</td>\n",
       "    </tr>\n",
       "    <tr>\n",
       "      <th>3</th>\n",
       "      <td>6318506</td>\n",
       "      <td>Ooma</td>\n",
       "      <td>162</td>\n",
       "      <td>Mandaluyong City</td>\n",
       "      <td>Third Floor, Mega Fashion Hall, SM Megamall, O...</td>\n",
       "      <td>SM Megamall, Ortigas, Mandaluyong City</td>\n",
       "      <td>SM Megamall, Ortigas, Mandaluyong City, Mandal...</td>\n",
       "      <td>121.056475</td>\n",
       "      <td>14.585318</td>\n",
       "      <td>Japanese, Sushi</td>\n",
       "      <td>Botswana Pula(P)</td>\n",
       "      <td>No</td>\n",
       "      <td>No</td>\n",
       "      <td>No</td>\n",
       "      <td>No</td>\n",
       "      <td>4</td>\n",
       "      <td>365</td>\n",
       "      <td>1500</td>\n",
       "      <td>4.9</td>\n",
       "    </tr>\n",
       "    <tr>\n",
       "      <th>4</th>\n",
       "      <td>6314302</td>\n",
       "      <td>Sambo Kojin</td>\n",
       "      <td>162</td>\n",
       "      <td>Mandaluyong City</td>\n",
       "      <td>Third Floor, Mega Atrium, SM Megamall, Ortigas...</td>\n",
       "      <td>SM Megamall, Ortigas, Mandaluyong City</td>\n",
       "      <td>SM Megamall, Ortigas, Mandaluyong City, Mandal...</td>\n",
       "      <td>121.057508</td>\n",
       "      <td>14.584450</td>\n",
       "      <td>Japanese, Korean</td>\n",
       "      <td>Botswana Pula(P)</td>\n",
       "      <td>Yes</td>\n",
       "      <td>No</td>\n",
       "      <td>No</td>\n",
       "      <td>No</td>\n",
       "      <td>4</td>\n",
       "      <td>229</td>\n",
       "      <td>1500</td>\n",
       "      <td>4.8</td>\n",
       "    </tr>\n",
       "  </tbody>\n",
       "</table>\n",
       "</div>"
      ],
      "text/plain": [
       "   Restaurant ID         Restaurant Name  Country Code              City  \\\n",
       "0        6317637        Le Petit Souffle           162       Makati City   \n",
       "1        6304287        Izakaya Kikufuji           162       Makati City   \n",
       "2        6300002  Heat - Edsa Shangri-La           162  Mandaluyong City   \n",
       "3        6318506                    Ooma           162  Mandaluyong City   \n",
       "4        6314302             Sambo Kojin           162  Mandaluyong City   \n",
       "\n",
       "                                             Address  \\\n",
       "0  Third Floor, Century City Mall, Kalayaan Avenu...   \n",
       "1  Little Tokyo, 2277 Chino Roces Avenue, Legaspi...   \n",
       "2  Edsa Shangri-La, 1 Garden Way, Ortigas, Mandal...   \n",
       "3  Third Floor, Mega Fashion Hall, SM Megamall, O...   \n",
       "4  Third Floor, Mega Atrium, SM Megamall, Ortigas...   \n",
       "\n",
       "                                     Locality  \\\n",
       "0   Century City Mall, Poblacion, Makati City   \n",
       "1  Little Tokyo, Legaspi Village, Makati City   \n",
       "2  Edsa Shangri-La, Ortigas, Mandaluyong City   \n",
       "3      SM Megamall, Ortigas, Mandaluyong City   \n",
       "4      SM Megamall, Ortigas, Mandaluyong City   \n",
       "\n",
       "                                    Locality Verbose   Longitude   Latitude  \\\n",
       "0  Century City Mall, Poblacion, Makati City, Mak...  121.027535  14.565443   \n",
       "1  Little Tokyo, Legaspi Village, Makati City, Ma...  121.014101  14.553708   \n",
       "2  Edsa Shangri-La, Ortigas, Mandaluyong City, Ma...  121.056831  14.581404   \n",
       "3  SM Megamall, Ortigas, Mandaluyong City, Mandal...  121.056475  14.585318   \n",
       "4  SM Megamall, Ortigas, Mandaluyong City, Mandal...  121.057508  14.584450   \n",
       "\n",
       "                           Cuisines          Currency Has Table booking  \\\n",
       "0        French, Japanese, Desserts  Botswana Pula(P)               Yes   \n",
       "1                          Japanese  Botswana Pula(P)               Yes   \n",
       "2  Seafood, Asian, Filipino, Indian  Botswana Pula(P)               Yes   \n",
       "3                   Japanese, Sushi  Botswana Pula(P)                No   \n",
       "4                  Japanese, Korean  Botswana Pula(P)               Yes   \n",
       "\n",
       "  Has Online delivery Is delivering now Switch to order menu  Price range  \\\n",
       "0                  No                No                   No            3   \n",
       "1                  No                No                   No            3   \n",
       "2                  No                No                   No            4   \n",
       "3                  No                No                   No            4   \n",
       "4                  No                No                   No            4   \n",
       "\n",
       "   Votes  Average Cost for two  Rating  \n",
       "0    314                  1100     4.8  \n",
       "1    591                  1200     4.5  \n",
       "2    270                  4000     4.4  \n",
       "3    365                  1500     4.9  \n",
       "4    229                  1500     4.8  "
      ]
     },
     "execution_count": 2,
     "metadata": {},
     "output_type": "execute_result"
    }
   ],
   "source": [
    "#Reading the dataset\n",
    "import pandas as pd\n",
    "import numpy as np \n",
    "RtData = pd.read_csv('Restaurant_Data.csv', encoding='latin')\n",
    "print('Shape before deleting duplicate values:', RtData.shape)\n",
    "\n",
    "# Removing duplicate rows if any\n",
    "RtData=RtData.drop_duplicates()\n",
    "print('Shape After deleting duplicate values:', RtData.shape)\n",
    "\n",
    "# Printing sample data\n",
    "# Start observing the Quantitative/Categorical/Qualitative variables\n",
    "RtData.head(5)"
   ]
  },
  {
   "cell_type": "code",
   "execution_count": 3,
   "id": "8d9f8c51",
   "metadata": {},
   "outputs": [
    {
     "data": {
      "text/html": [
       "<div>\n",
       "<style scoped>\n",
       "    .dataframe tbody tr th:only-of-type {\n",
       "        vertical-align: middle;\n",
       "    }\n",
       "\n",
       "    .dataframe tbody tr th {\n",
       "        vertical-align: top;\n",
       "    }\n",
       "\n",
       "    .dataframe thead th {\n",
       "        text-align: right;\n",
       "    }\n",
       "</style>\n",
       "<table border=\"1\" class=\"dataframe\">\n",
       "  <thead>\n",
       "    <tr style=\"text-align: right;\">\n",
       "      <th></th>\n",
       "      <th>Restaurant ID</th>\n",
       "      <th>Country Code</th>\n",
       "      <th>Longitude</th>\n",
       "      <th>Latitude</th>\n",
       "      <th>Price range</th>\n",
       "      <th>Votes</th>\n",
       "      <th>Average Cost for two</th>\n",
       "      <th>Rating</th>\n",
       "    </tr>\n",
       "  </thead>\n",
       "  <tbody>\n",
       "    <tr>\n",
       "      <th>count</th>\n",
       "      <td>9.551000e+03</td>\n",
       "      <td>9551.000000</td>\n",
       "      <td>9551.000000</td>\n",
       "      <td>9551.000000</td>\n",
       "      <td>9551.000000</td>\n",
       "      <td>9551.000000</td>\n",
       "      <td>9551.000000</td>\n",
       "      <td>9551.000000</td>\n",
       "    </tr>\n",
       "    <tr>\n",
       "      <th>mean</th>\n",
       "      <td>9.051128e+06</td>\n",
       "      <td>18.365616</td>\n",
       "      <td>64.126574</td>\n",
       "      <td>25.854381</td>\n",
       "      <td>1.804837</td>\n",
       "      <td>156.909748</td>\n",
       "      <td>1199.210763</td>\n",
       "      <td>2.891268</td>\n",
       "    </tr>\n",
       "    <tr>\n",
       "      <th>std</th>\n",
       "      <td>8.791521e+06</td>\n",
       "      <td>56.750546</td>\n",
       "      <td>41.467058</td>\n",
       "      <td>11.007935</td>\n",
       "      <td>0.905609</td>\n",
       "      <td>430.169145</td>\n",
       "      <td>16121.183073</td>\n",
       "      <td>1.128845</td>\n",
       "    </tr>\n",
       "    <tr>\n",
       "      <th>min</th>\n",
       "      <td>5.300000e+01</td>\n",
       "      <td>1.000000</td>\n",
       "      <td>-157.948486</td>\n",
       "      <td>-41.330428</td>\n",
       "      <td>1.000000</td>\n",
       "      <td>0.000000</td>\n",
       "      <td>0.000000</td>\n",
       "      <td>1.000000</td>\n",
       "    </tr>\n",
       "    <tr>\n",
       "      <th>25%</th>\n",
       "      <td>3.019625e+05</td>\n",
       "      <td>1.000000</td>\n",
       "      <td>77.081343</td>\n",
       "      <td>28.478713</td>\n",
       "      <td>1.000000</td>\n",
       "      <td>5.000000</td>\n",
       "      <td>250.000000</td>\n",
       "      <td>2.500000</td>\n",
       "    </tr>\n",
       "    <tr>\n",
       "      <th>50%</th>\n",
       "      <td>6.004089e+06</td>\n",
       "      <td>1.000000</td>\n",
       "      <td>77.191964</td>\n",
       "      <td>28.570469</td>\n",
       "      <td>2.000000</td>\n",
       "      <td>31.000000</td>\n",
       "      <td>400.000000</td>\n",
       "      <td>3.200000</td>\n",
       "    </tr>\n",
       "    <tr>\n",
       "      <th>75%</th>\n",
       "      <td>1.835229e+07</td>\n",
       "      <td>1.000000</td>\n",
       "      <td>77.282006</td>\n",
       "      <td>28.642758</td>\n",
       "      <td>2.000000</td>\n",
       "      <td>131.000000</td>\n",
       "      <td>700.000000</td>\n",
       "      <td>3.700000</td>\n",
       "    </tr>\n",
       "    <tr>\n",
       "      <th>max</th>\n",
       "      <td>1.850065e+07</td>\n",
       "      <td>216.000000</td>\n",
       "      <td>174.832089</td>\n",
       "      <td>55.976980</td>\n",
       "      <td>4.000000</td>\n",
       "      <td>10934.000000</td>\n",
       "      <td>800000.000000</td>\n",
       "      <td>4.900000</td>\n",
       "    </tr>\n",
       "  </tbody>\n",
       "</table>\n",
       "</div>"
      ],
      "text/plain": [
       "       Restaurant ID  Country Code    Longitude     Latitude  Price range  \\\n",
       "count   9.551000e+03   9551.000000  9551.000000  9551.000000  9551.000000   \n",
       "mean    9.051128e+06     18.365616    64.126574    25.854381     1.804837   \n",
       "std     8.791521e+06     56.750546    41.467058    11.007935     0.905609   \n",
       "min     5.300000e+01      1.000000  -157.948486   -41.330428     1.000000   \n",
       "25%     3.019625e+05      1.000000    77.081343    28.478713     1.000000   \n",
       "50%     6.004089e+06      1.000000    77.191964    28.570469     2.000000   \n",
       "75%     1.835229e+07      1.000000    77.282006    28.642758     2.000000   \n",
       "max     1.850065e+07    216.000000   174.832089    55.976980     4.000000   \n",
       "\n",
       "              Votes  Average Cost for two       Rating  \n",
       "count   9551.000000           9551.000000  9551.000000  \n",
       "mean     156.909748           1199.210763     2.891268  \n",
       "std      430.169145          16121.183073     1.128845  \n",
       "min        0.000000              0.000000     1.000000  \n",
       "25%        5.000000            250.000000     2.500000  \n",
       "50%       31.000000            400.000000     3.200000  \n",
       "75%      131.000000            700.000000     3.700000  \n",
       "max    10934.000000         800000.000000     4.900000  "
      ]
     },
     "execution_count": 3,
     "metadata": {},
     "output_type": "execute_result"
    }
   ],
   "source": [
    "RtData.describe()"
   ]
  },
  {
   "cell_type": "code",
   "execution_count": 4,
   "id": "37e42d63",
   "metadata": {},
   "outputs": [],
   "source": [
    "#Selecting the restaurants located in India \n",
    "RtData = RtData[(RtData.Currency == \"Indian Rupees(Rs.)\")]"
   ]
  },
  {
   "cell_type": "code",
   "execution_count": 5,
   "id": "b26faa84",
   "metadata": {},
   "outputs": [],
   "source": [
    "#Removing the data where Average cost is 0\n",
    "RtData = RtData.loc[(RtData['Average Cost for two'] > 0)]"
   ]
  },
  {
   "cell_type": "code",
   "execution_count": 6,
   "id": "99a60b78",
   "metadata": {},
   "outputs": [
    {
     "data": {
      "text/plain": [
       "(8643, 19)"
      ]
     },
     "execution_count": 6,
     "metadata": {},
     "output_type": "execute_result"
    }
   ],
   "source": [
    "RtData.shape"
   ]
  },
  {
   "cell_type": "code",
   "execution_count": 7,
   "id": "96eaaad0",
   "metadata": {},
   "outputs": [
    {
     "data": {
      "text/html": [
       "<div>\n",
       "<style scoped>\n",
       "    .dataframe tbody tr th:only-of-type {\n",
       "        vertical-align: middle;\n",
       "    }\n",
       "\n",
       "    .dataframe tbody tr th {\n",
       "        vertical-align: top;\n",
       "    }\n",
       "\n",
       "    .dataframe thead th {\n",
       "        text-align: right;\n",
       "    }\n",
       "</style>\n",
       "<table border=\"1\" class=\"dataframe\">\n",
       "  <thead>\n",
       "    <tr style=\"text-align: right;\">\n",
       "      <th></th>\n",
       "      <th>Restaurant ID</th>\n",
       "      <th>Country Code</th>\n",
       "      <th>Longitude</th>\n",
       "      <th>Latitude</th>\n",
       "      <th>Price range</th>\n",
       "      <th>Votes</th>\n",
       "      <th>Average Cost for two</th>\n",
       "      <th>Rating</th>\n",
       "    </tr>\n",
       "  </thead>\n",
       "  <tbody>\n",
       "    <tr>\n",
       "      <th>count</th>\n",
       "      <td>8.643000e+03</td>\n",
       "      <td>8643.0</td>\n",
       "      <td>8643.000000</td>\n",
       "      <td>8643.000000</td>\n",
       "      <td>8643.000000</td>\n",
       "      <td>8643.000000</td>\n",
       "      <td>8643.000000</td>\n",
       "      <td>8643.000000</td>\n",
       "    </tr>\n",
       "    <tr>\n",
       "      <th>mean</th>\n",
       "      <td>8.655738e+06</td>\n",
       "      <td>1.0</td>\n",
       "      <td>72.867896</td>\n",
       "      <td>26.426365</td>\n",
       "      <td>1.722434</td>\n",
       "      <td>137.270045</td>\n",
       "      <td>624.019438</td>\n",
       "      <td>2.769374</td>\n",
       "    </tr>\n",
       "    <tr>\n",
       "      <th>std</th>\n",
       "      <td>8.960763e+06</td>\n",
       "      <td>0.0</td>\n",
       "      <td>17.991596</td>\n",
       "      <td>6.968468</td>\n",
       "      <td>0.852669</td>\n",
       "      <td>428.257651</td>\n",
       "      <td>595.646258</td>\n",
       "      <td>1.105049</td>\n",
       "    </tr>\n",
       "    <tr>\n",
       "      <th>min</th>\n",
       "      <td>5.300000e+01</td>\n",
       "      <td>1.0</td>\n",
       "      <td>0.000000</td>\n",
       "      <td>0.000000</td>\n",
       "      <td>1.000000</td>\n",
       "      <td>0.000000</td>\n",
       "      <td>50.000000</td>\n",
       "      <td>1.000000</td>\n",
       "    </tr>\n",
       "    <tr>\n",
       "      <th>25%</th>\n",
       "      <td>3.007115e+05</td>\n",
       "      <td>1.0</td>\n",
       "      <td>77.098791</td>\n",
       "      <td>28.492260</td>\n",
       "      <td>1.000000</td>\n",
       "      <td>4.000000</td>\n",
       "      <td>300.000000</td>\n",
       "      <td>2.100000</td>\n",
       "    </tr>\n",
       "    <tr>\n",
       "      <th>50%</th>\n",
       "      <td>2.100861e+06</td>\n",
       "      <td>1.0</td>\n",
       "      <td>77.203351</td>\n",
       "      <td>28.569906</td>\n",
       "      <td>2.000000</td>\n",
       "      <td>24.000000</td>\n",
       "      <td>450.000000</td>\n",
       "      <td>3.100000</td>\n",
       "    </tr>\n",
       "    <tr>\n",
       "      <th>75%</th>\n",
       "      <td>1.836121e+07</td>\n",
       "      <td>1.0</td>\n",
       "      <td>77.285065</td>\n",
       "      <td>28.637950</td>\n",
       "      <td>2.000000</td>\n",
       "      <td>100.000000</td>\n",
       "      <td>700.000000</td>\n",
       "      <td>3.600000</td>\n",
       "    </tr>\n",
       "    <tr>\n",
       "      <th>max</th>\n",
       "      <td>1.850065e+07</td>\n",
       "      <td>1.0</td>\n",
       "      <td>91.806493</td>\n",
       "      <td>35.000000</td>\n",
       "      <td>4.000000</td>\n",
       "      <td>10934.000000</td>\n",
       "      <td>8000.000000</td>\n",
       "      <td>4.900000</td>\n",
       "    </tr>\n",
       "  </tbody>\n",
       "</table>\n",
       "</div>"
      ],
      "text/plain": [
       "       Restaurant ID  Country Code    Longitude     Latitude  Price range  \\\n",
       "count   8.643000e+03        8643.0  8643.000000  8643.000000  8643.000000   \n",
       "mean    8.655738e+06           1.0    72.867896    26.426365     1.722434   \n",
       "std     8.960763e+06           0.0    17.991596     6.968468     0.852669   \n",
       "min     5.300000e+01           1.0     0.000000     0.000000     1.000000   \n",
       "25%     3.007115e+05           1.0    77.098791    28.492260     1.000000   \n",
       "50%     2.100861e+06           1.0    77.203351    28.569906     2.000000   \n",
       "75%     1.836121e+07           1.0    77.285065    28.637950     2.000000   \n",
       "max     1.850065e+07           1.0    91.806493    35.000000     4.000000   \n",
       "\n",
       "              Votes  Average Cost for two       Rating  \n",
       "count   8643.000000           8643.000000  8643.000000  \n",
       "mean     137.270045            624.019438     2.769374  \n",
       "std      428.257651            595.646258     1.105049  \n",
       "min        0.000000             50.000000     1.000000  \n",
       "25%        4.000000            300.000000     2.100000  \n",
       "50%       24.000000            450.000000     3.100000  \n",
       "75%      100.000000            700.000000     3.600000  \n",
       "max    10934.000000           8000.000000     4.900000  "
      ]
     },
     "execution_count": 7,
     "metadata": {},
     "output_type": "execute_result"
    }
   ],
   "source": [
    "RtData.describe()"
   ]
  },
  {
   "cell_type": "markdown",
   "id": "660a209f",
   "metadata": {},
   "source": [
    "## Defining the problem statement:\n",
    "#### Create a Predictive model which can predict the future Rating of a restaurant\n",
    "\n",
    "* <b>Target Variable</b>: Rating\n",
    "* <b>Predictors</b>: location, menu, cost etc.\n",
    "    \n",
    "* Rating=1 Worst\n",
    "* Rating=5 Best"
   ]
  },
  {
   "cell_type": "markdown",
   "id": "38824774",
   "metadata": {},
   "source": [
    "## Determining the type of Machine Learning\n",
    "Based on the problem statement you can understand that we need to create a supervised ML Regression model, as the target variable is Continuous."
   ]
  },
  {
   "cell_type": "markdown",
   "id": "235825f2",
   "metadata": {},
   "source": [
    "## Looking at the distribution of Target variable"
   ]
  },
  {
   "cell_type": "code",
   "execution_count": 8,
   "id": "b8a3c8bb",
   "metadata": {},
   "outputs": [
    {
     "data": {
      "text/plain": [
       "<AxesSubplot:>"
      ]
     },
     "execution_count": 8,
     "metadata": {},
     "output_type": "execute_result"
    },
    {
     "data": {
      "image/png": "[encoded data removed]",
      "text/plain": [
       "<Figure size 432x288 with 1 Axes>"
      ]
     },
     "metadata": {
      "needs_background": "light"
     },
     "output_type": "display_data"
    }
   ],
   "source": [
    "%matplotlib inline\n",
    "#Creating Bar chart as the Target Variable is Continuous\n",
    "RtData['Rating'].hist()"
   ]
  },
  {
   "cell_type": "markdown",
   "id": "33120446",
   "metadata": {},
   "source": [
    "\n",
    "The data distribution of the target variable is satisfactory to proceed further. There are sufficient number of rows for each type of values to learn from."
   ]
  },
  {
   "cell_type": "markdown",
   "id": "b129d10b",
   "metadata": {},
   "source": [
    "## Basic Data Exploration"
   ]
  },
  {
   "cell_type": "code",
   "execution_count": 9,
   "id": "263f4523",
   "metadata": {},
   "outputs": [
    {
     "name": "stdout",
     "output_type": "stream",
     "text": [
      "<class 'pandas.core.frame.DataFrame'>\n",
      "Int64Index: 8643 entries, 624 to 9275\n",
      "Data columns (total 19 columns):\n",
      " #   Column                Non-Null Count  Dtype  \n",
      "---  ------                --------------  -----  \n",
      " 0   Restaurant ID         8643 non-null   int64  \n",
      " 1   Restaurant Name       8643 non-null   object \n",
      " 2   Country Code          8643 non-null   int64  \n",
      " 3   City                  8643 non-null   object \n",
      " 4   Address               8643 non-null   object \n",
      " 5   Locality              8643 non-null   object \n",
      " 6   Locality Verbose      8643 non-null   object \n",
      " 7   Longitude             8643 non-null   float64\n",
      " 8   Latitude              8643 non-null   float64\n",
      " 9   Cuisines              8643 non-null   object \n",
      " 10  Currency              8643 non-null   object \n",
      " 11  Has Table booking     8643 non-null   object \n",
      " 12  Has Online delivery   8643 non-null   object \n",
      " 13  Is delivering now     8643 non-null   object \n",
      " 14  Switch to order menu  8643 non-null   object \n",
      " 15  Price range           8643 non-null   int64  \n",
      " 16  Votes                 8643 non-null   int64  \n",
      " 17  Average Cost for two  8643 non-null   int64  \n",
      " 18  Rating                8643 non-null   float64\n",
      "dtypes: float64(3), int64(5), object(11)\n",
      "memory usage: 1.3+ MB\n"
     ]
    }
   ],
   "source": [
    "#Looking at the summarized information of the data\n",
    "RtData.info()"
   ]
  },
  {
   "cell_type": "code",
   "execution_count": 10,
   "id": "fd38a5c2",
   "metadata": {},
   "outputs": [
    {
     "data": {
      "text/html": [
       "<div>\n",
       "<style scoped>\n",
       "    .dataframe tbody tr th:only-of-type {\n",
       "        vertical-align: middle;\n",
       "    }\n",
       "\n",
       "    .dataframe tbody tr th {\n",
       "        vertical-align: top;\n",
       "    }\n",
       "\n",
       "    .dataframe thead th {\n",
       "        text-align: right;\n",
       "    }\n",
       "</style>\n",
       "<table border=\"1\" class=\"dataframe\">\n",
       "  <thead>\n",
       "    <tr style=\"text-align: right;\">\n",
       "      <th></th>\n",
       "      <th>Restaurant ID</th>\n",
       "      <th>Restaurant Name</th>\n",
       "      <th>Country Code</th>\n",
       "      <th>City</th>\n",
       "      <th>Address</th>\n",
       "      <th>Locality</th>\n",
       "      <th>Locality Verbose</th>\n",
       "      <th>Longitude</th>\n",
       "      <th>Latitude</th>\n",
       "      <th>Cuisines</th>\n",
       "      <th>Currency</th>\n",
       "      <th>Has Table booking</th>\n",
       "      <th>Has Online delivery</th>\n",
       "      <th>Is delivering now</th>\n",
       "      <th>Switch to order menu</th>\n",
       "      <th>Price range</th>\n",
       "      <th>Votes</th>\n",
       "      <th>Average Cost for two</th>\n",
       "      <th>Rating</th>\n",
       "    </tr>\n",
       "  </thead>\n",
       "  <tbody>\n",
       "    <tr>\n",
       "      <th>count</th>\n",
       "      <td>8.643000e+03</td>\n",
       "      <td>8643</td>\n",
       "      <td>8643.0</td>\n",
       "      <td>8643</td>\n",
       "      <td>8643</td>\n",
       "      <td>8643</td>\n",
       "      <td>8643</td>\n",
       "      <td>8643.000000</td>\n",
       "      <td>8643.000000</td>\n",
       "      <td>8643</td>\n",
       "      <td>8643</td>\n",
       "      <td>8643</td>\n",
       "      <td>8643</td>\n",
       "      <td>8643</td>\n",
       "      <td>8643</td>\n",
       "      <td>8643.000000</td>\n",
       "      <td>8643.000000</td>\n",
       "      <td>8643.000000</td>\n",
       "      <td>8643.000000</td>\n",
       "    </tr>\n",
       "    <tr>\n",
       "      <th>unique</th>\n",
       "      <td>NaN</td>\n",
       "      <td>6595</td>\n",
       "      <td>NaN</td>\n",
       "      <td>43</td>\n",
       "      <td>8017</td>\n",
       "      <td>783</td>\n",
       "      <td>840</td>\n",
       "      <td>NaN</td>\n",
       "      <td>NaN</td>\n",
       "      <td>1389</td>\n",
       "      <td>1</td>\n",
       "      <td>2</td>\n",
       "      <td>2</td>\n",
       "      <td>2</td>\n",
       "      <td>1</td>\n",
       "      <td>NaN</td>\n",
       "      <td>NaN</td>\n",
       "      <td>NaN</td>\n",
       "      <td>NaN</td>\n",
       "    </tr>\n",
       "    <tr>\n",
       "      <th>top</th>\n",
       "      <td>NaN</td>\n",
       "      <td>Cafe Coffee Day</td>\n",
       "      <td>NaN</td>\n",
       "      <td>New Delhi</td>\n",
       "      <td>Dilli Haat, INA, New Delhi</td>\n",
       "      <td>Connaught Place</td>\n",
       "      <td>Connaught Place, New Delhi</td>\n",
       "      <td>NaN</td>\n",
       "      <td>NaN</td>\n",
       "      <td>North Indian</td>\n",
       "      <td>Indian Rupees(Rs.)</td>\n",
       "      <td>No</td>\n",
       "      <td>No</td>\n",
       "      <td>No</td>\n",
       "      <td>No</td>\n",
       "      <td>NaN</td>\n",
       "      <td>NaN</td>\n",
       "      <td>NaN</td>\n",
       "      <td>NaN</td>\n",
       "    </tr>\n",
       "    <tr>\n",
       "      <th>freq</th>\n",
       "      <td>NaN</td>\n",
       "      <td>83</td>\n",
       "      <td>NaN</td>\n",
       "      <td>5473</td>\n",
       "      <td>11</td>\n",
       "      <td>122</td>\n",
       "      <td>122</td>\n",
       "      <td>NaN</td>\n",
       "      <td>NaN</td>\n",
       "      <td>936</td>\n",
       "      <td>8643</td>\n",
       "      <td>7532</td>\n",
       "      <td>6220</td>\n",
       "      <td>8609</td>\n",
       "      <td>8643</td>\n",
       "      <td>NaN</td>\n",
       "      <td>NaN</td>\n",
       "      <td>NaN</td>\n",
       "      <td>NaN</td>\n",
       "    </tr>\n",
       "    <tr>\n",
       "      <th>mean</th>\n",
       "      <td>8.655738e+06</td>\n",
       "      <td>NaN</td>\n",
       "      <td>1.0</td>\n",
       "      <td>NaN</td>\n",
       "      <td>NaN</td>\n",
       "      <td>NaN</td>\n",
       "      <td>NaN</td>\n",
       "      <td>72.867896</td>\n",
       "      <td>26.426365</td>\n",
       "      <td>NaN</td>\n",
       "      <td>NaN</td>\n",
       "      <td>NaN</td>\n",
       "      <td>NaN</td>\n",
       "      <td>NaN</td>\n",
       "      <td>NaN</td>\n",
       "      <td>1.722434</td>\n",
       "      <td>137.270045</td>\n",
       "      <td>624.019438</td>\n",
       "      <td>2.769374</td>\n",
       "    </tr>\n",
       "    <tr>\n",
       "      <th>std</th>\n",
       "      <td>8.960763e+06</td>\n",
       "      <td>NaN</td>\n",
       "      <td>0.0</td>\n",
       "      <td>NaN</td>\n",
       "      <td>NaN</td>\n",
       "      <td>NaN</td>\n",
       "      <td>NaN</td>\n",
       "      <td>17.991596</td>\n",
       "      <td>6.968468</td>\n",
       "      <td>NaN</td>\n",
       "      <td>NaN</td>\n",
       "      <td>NaN</td>\n",
       "      <td>NaN</td>\n",
       "      <td>NaN</td>\n",
       "      <td>NaN</td>\n",
       "      <td>0.852669</td>\n",
       "      <td>428.257651</td>\n",
       "      <td>595.646258</td>\n",
       "      <td>1.105049</td>\n",
       "    </tr>\n",
       "    <tr>\n",
       "      <th>min</th>\n",
       "      <td>5.300000e+01</td>\n",
       "      <td>NaN</td>\n",
       "      <td>1.0</td>\n",
       "      <td>NaN</td>\n",
       "      <td>NaN</td>\n",
       "      <td>NaN</td>\n",
       "      <td>NaN</td>\n",
       "      <td>0.000000</td>\n",
       "      <td>0.000000</td>\n",
       "      <td>NaN</td>\n",
       "      <td>NaN</td>\n",
       "      <td>NaN</td>\n",
       "      <td>NaN</td>\n",
       "      <td>NaN</td>\n",
       "      <td>NaN</td>\n",
       "      <td>1.000000</td>\n",
       "      <td>0.000000</td>\n",
       "      <td>50.000000</td>\n",
       "      <td>1.000000</td>\n",
       "    </tr>\n",
       "    <tr>\n",
       "      <th>25%</th>\n",
       "      <td>3.007115e+05</td>\n",
       "      <td>NaN</td>\n",
       "      <td>1.0</td>\n",
       "      <td>NaN</td>\n",
       "      <td>NaN</td>\n",
       "      <td>NaN</td>\n",
       "      <td>NaN</td>\n",
       "      <td>77.098791</td>\n",
       "      <td>28.492260</td>\n",
       "      <td>NaN</td>\n",
       "      <td>NaN</td>\n",
       "      <td>NaN</td>\n",
       "      <td>NaN</td>\n",
       "      <td>NaN</td>\n",
       "      <td>NaN</td>\n",
       "      <td>1.000000</td>\n",
       "      <td>4.000000</td>\n",
       "      <td>300.000000</td>\n",
       "      <td>2.100000</td>\n",
       "    </tr>\n",
       "    <tr>\n",
       "      <th>50%</th>\n",
       "      <td>2.100861e+06</td>\n",
       "      <td>NaN</td>\n",
       "      <td>1.0</td>\n",
       "      <td>NaN</td>\n",
       "      <td>NaN</td>\n",
       "      <td>NaN</td>\n",
       "      <td>NaN</td>\n",
       "      <td>77.203351</td>\n",
       "      <td>28.569906</td>\n",
       "      <td>NaN</td>\n",
       "      <td>NaN</td>\n",
       "      <td>NaN</td>\n",
       "      <td>NaN</td>\n",
       "      <td>NaN</td>\n",
       "      <td>NaN</td>\n",
       "      <td>2.000000</td>\n",
       "      <td>24.000000</td>\n",
       "      <td>450.000000</td>\n",
       "      <td>3.100000</td>\n",
       "    </tr>\n",
       "    <tr>\n",
       "      <th>75%</th>\n",
       "      <td>1.836121e+07</td>\n",
       "      <td>NaN</td>\n",
       "      <td>1.0</td>\n",
       "      <td>NaN</td>\n",
       "      <td>NaN</td>\n",
       "      <td>NaN</td>\n",
       "      <td>NaN</td>\n",
       "      <td>77.285065</td>\n",
       "      <td>28.637950</td>\n",
       "      <td>NaN</td>\n",
       "      <td>NaN</td>\n",
       "      <td>NaN</td>\n",
       "      <td>NaN</td>\n",
       "      <td>NaN</td>\n",
       "      <td>NaN</td>\n",
       "      <td>2.000000</td>\n",
       "      <td>100.000000</td>\n",
       "      <td>700.000000</td>\n",
       "      <td>3.600000</td>\n",
       "    </tr>\n",
       "    <tr>\n",
       "      <th>max</th>\n",
       "      <td>1.850065e+07</td>\n",
       "      <td>NaN</td>\n",
       "      <td>1.0</td>\n",
       "      <td>NaN</td>\n",
       "      <td>NaN</td>\n",
       "      <td>NaN</td>\n",
       "      <td>NaN</td>\n",
       "      <td>91.806493</td>\n",
       "      <td>35.000000</td>\n",
       "      <td>NaN</td>\n",
       "      <td>NaN</td>\n",
       "      <td>NaN</td>\n",
       "      <td>NaN</td>\n",
       "      <td>NaN</td>\n",
       "      <td>NaN</td>\n",
       "      <td>4.000000</td>\n",
       "      <td>10934.000000</td>\n",
       "      <td>8000.000000</td>\n",
       "      <td>4.900000</td>\n",
       "    </tr>\n",
       "  </tbody>\n",
       "</table>\n",
       "</div>"
      ],
      "text/plain": [
       "        Restaurant ID  Restaurant Name  Country Code       City  \\\n",
       "count    8.643000e+03             8643        8643.0       8643   \n",
       "unique            NaN             6595           NaN         43   \n",
       "top               NaN  Cafe Coffee Day           NaN  New Delhi   \n",
       "freq              NaN               83           NaN       5473   \n",
       "mean     8.655738e+06              NaN           1.0        NaN   \n",
       "std      8.960763e+06              NaN           0.0        NaN   \n",
       "min      5.300000e+01              NaN           1.0        NaN   \n",
       "25%      3.007115e+05              NaN           1.0        NaN   \n",
       "50%      2.100861e+06              NaN           1.0        NaN   \n",
       "75%      1.836121e+07              NaN           1.0        NaN   \n",
       "max      1.850065e+07              NaN           1.0        NaN   \n",
       "\n",
       "                           Address         Locality  \\\n",
       "count                         8643             8643   \n",
       "unique                        8017              783   \n",
       "top     Dilli Haat, INA, New Delhi  Connaught Place   \n",
       "freq                            11              122   \n",
       "mean                           NaN              NaN   \n",
       "std                            NaN              NaN   \n",
       "min                            NaN              NaN   \n",
       "25%                            NaN              NaN   \n",
       "50%                            NaN              NaN   \n",
       "75%                            NaN              NaN   \n",
       "max                            NaN              NaN   \n",
       "\n",
       "                  Locality Verbose    Longitude     Latitude      Cuisines  \\\n",
       "count                         8643  8643.000000  8643.000000          8643   \n",
       "unique                         840          NaN          NaN          1389   \n",
       "top     Connaught Place, New Delhi          NaN          NaN  North Indian   \n",
       "freq                           122          NaN          NaN           936   \n",
       "mean                           NaN    72.867896    26.426365           NaN   \n",
       "std                            NaN    17.991596     6.968468           NaN   \n",
       "min                            NaN     0.000000     0.000000           NaN   \n",
       "25%                            NaN    77.098791    28.492260           NaN   \n",
       "50%                            NaN    77.203351    28.569906           NaN   \n",
       "75%                            NaN    77.285065    28.637950           NaN   \n",
       "max                            NaN    91.806493    35.000000           NaN   \n",
       "\n",
       "                  Currency Has Table booking Has Online delivery  \\\n",
       "count                 8643              8643                8643   \n",
       "unique                   1                 2                   2   \n",
       "top     Indian Rupees(Rs.)                No                  No   \n",
       "freq                  8643              7532                6220   \n",
       "mean                   NaN               NaN                 NaN   \n",
       "std                    NaN               NaN                 NaN   \n",
       "min                    NaN               NaN                 NaN   \n",
       "25%                    NaN               NaN                 NaN   \n",
       "50%                    NaN               NaN                 NaN   \n",
       "75%                    NaN               NaN                 NaN   \n",
       "max                    NaN               NaN                 NaN   \n",
       "\n",
       "       Is delivering now Switch to order menu  Price range         Votes  \\\n",
       "count               8643                 8643  8643.000000   8643.000000   \n",
       "unique                 2                    1          NaN           NaN   \n",
       "top                   No                   No          NaN           NaN   \n",
       "freq                8609                 8643          NaN           NaN   \n",
       "mean                 NaN                  NaN     1.722434    137.270045   \n",
       "std                  NaN                  NaN     0.852669    428.257651   \n",
       "min                  NaN                  NaN     1.000000      0.000000   \n",
       "25%                  NaN                  NaN     1.000000      4.000000   \n",
       "50%                  NaN                  NaN     2.000000     24.000000   \n",
       "75%                  NaN                  NaN     2.000000    100.000000   \n",
       "max                  NaN                  NaN     4.000000  10934.000000   \n",
       "\n",
       "        Average Cost for two       Rating  \n",
       "count            8643.000000  8643.000000  \n",
       "unique                   NaN          NaN  \n",
       "top                      NaN          NaN  \n",
       "freq                     NaN          NaN  \n",
       "mean              624.019438     2.769374  \n",
       "std               595.646258     1.105049  \n",
       "min                50.000000     1.000000  \n",
       "25%               300.000000     2.100000  \n",
       "50%               450.000000     3.100000  \n",
       "75%               700.000000     3.600000  \n",
       "max              8000.000000     4.900000  "
      ]
     },
     "execution_count": 10,
     "metadata": {},
     "output_type": "execute_result"
    }
   ],
   "source": [
    "#Looking at the descriptive statistics of the data\n",
    "RtData.describe(include='all')"
   ]
  },
  {
   "cell_type": "code",
   "execution_count": 11,
   "id": "7dcadd76",
   "metadata": {},
   "outputs": [
    {
     "data": {
      "text/plain": [
       "Restaurant ID           8643\n",
       "Restaurant Name         6595\n",
       "Country Code               1\n",
       "City                      43\n",
       "Address                 8017\n",
       "Locality                 783\n",
       "Locality Verbose         840\n",
       "Longitude               7224\n",
       "Latitude                7784\n",
       "Cuisines                1389\n",
       "Currency                   1\n",
       "Has Table booking          2\n",
       "Has Online delivery        2\n",
       "Is delivering now          2\n",
       "Switch to order menu       1\n",
       "Price range                4\n",
       "Votes                    871\n",
       "Average Cost for two      78\n",
       "Rating                    33\n",
       "dtype: int64"
      ]
     },
     "execution_count": 11,
     "metadata": {},
     "output_type": "execute_result"
    }
   ],
   "source": [
    "# Finging unique values for each column\n",
    "# T0 understand which column is categorical and which one is Continuous\n",
    "# Typically if the numer of unique values are < 20 then the variable is likely to be a category otherwise continuous\n",
    "RtData.nunique()"
   ]
  },
  {
   "cell_type": "markdown",
   "id": "672b6703",
   "metadata": {},
   "source": [
    "## Basic Data Exploration Results\n",
    "Based on the basic exploration above, you can now create a simple report of the data, noting down your observations regaring each column. Hence, creating a initial roadmap for further analysis.\n",
    "\n",
    "The selected columns in this step are not final, further study will be done and then a final list will be created\n",
    "\n",
    "* Restaurant ID: Qualitative. Rejected.\n",
    "* Restaurant Name: Qualitative. Rejected.\n",
    "* Country Code: Categorical. Selected.\n",
    "* City: Categorical. Rejected. Too many unique levels, hence it will cause high dimensionality.\n",
    "* Address: Qualitative. Rejected.\n",
    "* Locality: Qualitative. Rejected.\n",
    "* Locality Verbose: Qualitative. Rejected.\n",
    "* Longitude: Continuous. Selected. This represents the location of restaurant\n",
    "* Latitude: Continuous. Selected. This represents the location of restaurant\n",
    "* Cuisines: Qualitative. Rejected.Too many unique levels, hence it will cause high dimensionality.\n",
    "* Currency: Categorical. Selected.\n",
    "* Has Table booking: Categorical. Selected.\n",
    "* Has Online delivery: Categorical. Selected.\n",
    "* Is delivering now: Categorical. Selected.\n",
    "* Switch to order menu: Categorical. Selected.\n",
    "* Price range: Categorical. Selected.\n",
    "* Votes: Continuous. Selected.\n",
    "* Average Cost for two: Continuous. Selected.\n",
    "* Rating: Continuous. Selected. This is the Target Variable!"
   ]
  },
  {
   "cell_type": "markdown",
   "id": "0baf7182",
   "metadata": {},
   "source": [
    "## Removing useless columns from the data"
   ]
  },
  {
   "cell_type": "markdown",
   "id": "b8973615",
   "metadata": {},
   "source": [
    "\n",
    "Dates, addresses, and other qualitative columns such as these cannot be used directly for machine learning. As a result, each row has a unique string value, making it impossible for machine learning algorithms to learn anything from them. Simply put, such columns cannot be used to derive any general rules.\n",
    "\n",
    "However, we are able to extract some data from these columns that can be applied to ML. For example, we can extract the month, week, quarter, etc. from a date column to create a category feature but it will not be that useful for this project.\n",
    "\n",
    "Similarly, we can extract certain repetitious data from addresses, such as zip codes, location, etc., but if the number of unique values is too high (more than 50), it causes problems for the ML algorithm later on as the data dimensionality rises while converting such columns to dummy variables.\n",
    "\n",
    "The \"Cuisines\" column in this set of data cannot be used directly because it will produce 1825 dummy variables! so, removing that as well.\n",
    "\n"
   ]
  },
  {
   "cell_type": "code",
   "execution_count": 12,
   "id": "a391dd7c",
   "metadata": {},
   "outputs": [
    {
     "data": {
      "text/html": [
       "<div>\n",
       "<style scoped>\n",
       "    .dataframe tbody tr th:only-of-type {\n",
       "        vertical-align: middle;\n",
       "    }\n",
       "\n",
       "    .dataframe tbody tr th {\n",
       "        vertical-align: top;\n",
       "    }\n",
       "\n",
       "    .dataframe thead th {\n",
       "        text-align: right;\n",
       "    }\n",
       "</style>\n",
       "<table border=\"1\" class=\"dataframe\">\n",
       "  <thead>\n",
       "    <tr style=\"text-align: right;\">\n",
       "      <th></th>\n",
       "      <th>Longitude</th>\n",
       "      <th>Latitude</th>\n",
       "      <th>Has Table booking</th>\n",
       "      <th>Has Online delivery</th>\n",
       "      <th>Is delivering now</th>\n",
       "      <th>Price range</th>\n",
       "      <th>Votes</th>\n",
       "      <th>Average Cost for two</th>\n",
       "      <th>Rating</th>\n",
       "    </tr>\n",
       "  </thead>\n",
       "  <tbody>\n",
       "    <tr>\n",
       "      <th>624</th>\n",
       "      <td>78.011544</td>\n",
       "      <td>27.161661</td>\n",
       "      <td>No</td>\n",
       "      <td>No</td>\n",
       "      <td>No</td>\n",
       "      <td>3</td>\n",
       "      <td>140</td>\n",
       "      <td>850</td>\n",
       "      <td>3.9</td>\n",
       "    </tr>\n",
       "    <tr>\n",
       "      <th>625</th>\n",
       "      <td>0.000000</td>\n",
       "      <td>0.000000</td>\n",
       "      <td>No</td>\n",
       "      <td>No</td>\n",
       "      <td>No</td>\n",
       "      <td>2</td>\n",
       "      <td>71</td>\n",
       "      <td>700</td>\n",
       "      <td>3.5</td>\n",
       "    </tr>\n",
       "    <tr>\n",
       "      <th>626</th>\n",
       "      <td>78.011608</td>\n",
       "      <td>27.160832</td>\n",
       "      <td>No</td>\n",
       "      <td>No</td>\n",
       "      <td>No</td>\n",
       "      <td>2</td>\n",
       "      <td>94</td>\n",
       "      <td>500</td>\n",
       "      <td>3.6</td>\n",
       "    </tr>\n",
       "    <tr>\n",
       "      <th>627</th>\n",
       "      <td>77.998092</td>\n",
       "      <td>27.195928</td>\n",
       "      <td>No</td>\n",
       "      <td>No</td>\n",
       "      <td>No</td>\n",
       "      <td>2</td>\n",
       "      <td>87</td>\n",
       "      <td>400</td>\n",
       "      <td>4.0</td>\n",
       "    </tr>\n",
       "    <tr>\n",
       "      <th>628</th>\n",
       "      <td>78.007553</td>\n",
       "      <td>27.201725</td>\n",
       "      <td>No</td>\n",
       "      <td>No</td>\n",
       "      <td>No</td>\n",
       "      <td>3</td>\n",
       "      <td>177</td>\n",
       "      <td>1000</td>\n",
       "      <td>4.2</td>\n",
       "    </tr>\n",
       "  </tbody>\n",
       "</table>\n",
       "</div>"
      ],
      "text/plain": [
       "     Longitude   Latitude Has Table booking Has Online delivery  \\\n",
       "624  78.011544  27.161661                No                  No   \n",
       "625   0.000000   0.000000                No                  No   \n",
       "626  78.011608  27.160832                No                  No   \n",
       "627  77.998092  27.195928                No                  No   \n",
       "628  78.007553  27.201725                No                  No   \n",
       "\n",
       "    Is delivering now  Price range  Votes  Average Cost for two  Rating  \n",
       "624                No            3    140                   850     3.9  \n",
       "625                No            2     71                   700     3.5  \n",
       "626                No            2     94                   500     3.6  \n",
       "627                No            2     87                   400     4.0  \n",
       "628                No            3    177                  1000     4.2  "
      ]
     },
     "execution_count": 12,
     "metadata": {},
     "output_type": "execute_result"
    }
   ],
   "source": [
    "# Deleting those columns which are not useful in predictive analysis because these variables are qualitative\n",
    "UselessColumns = ['Restaurant ID', 'Restaurant Name','City','Address',\n",
    "                  'Locality', 'Locality Verbose','Cuisines','Country Code', 'Currency','Switch to order menu']\n",
    "RtData = RtData.drop(UselessColumns,axis=1)\n",
    "RtData.head()"
   ]
  },
  {
   "cell_type": "code",
   "execution_count": 13,
   "id": "adf061f2",
   "metadata": {},
   "outputs": [
    {
     "data": {
      "text/html": [
       "<div>\n",
       "<style scoped>\n",
       "    .dataframe tbody tr th:only-of-type {\n",
       "        vertical-align: middle;\n",
       "    }\n",
       "\n",
       "    .dataframe tbody tr th {\n",
       "        vertical-align: top;\n",
       "    }\n",
       "\n",
       "    .dataframe thead th {\n",
       "        text-align: right;\n",
       "    }\n",
       "</style>\n",
       "<table border=\"1\" class=\"dataframe\">\n",
       "  <thead>\n",
       "    <tr style=\"text-align: right;\">\n",
       "      <th></th>\n",
       "      <th>Longitude</th>\n",
       "      <th>Latitude</th>\n",
       "      <th>Price range</th>\n",
       "      <th>Votes</th>\n",
       "      <th>Average Cost for two</th>\n",
       "      <th>Rating</th>\n",
       "    </tr>\n",
       "  </thead>\n",
       "  <tbody>\n",
       "    <tr>\n",
       "      <th>count</th>\n",
       "      <td>8643.000000</td>\n",
       "      <td>8643.000000</td>\n",
       "      <td>8643.000000</td>\n",
       "      <td>8643.000000</td>\n",
       "      <td>8643.000000</td>\n",
       "      <td>8643.000000</td>\n",
       "    </tr>\n",
       "    <tr>\n",
       "      <th>mean</th>\n",
       "      <td>72.867896</td>\n",
       "      <td>26.426365</td>\n",
       "      <td>1.722434</td>\n",
       "      <td>137.270045</td>\n",
       "      <td>624.019438</td>\n",
       "      <td>2.769374</td>\n",
       "    </tr>\n",
       "    <tr>\n",
       "      <th>std</th>\n",
       "      <td>17.991596</td>\n",
       "      <td>6.968468</td>\n",
       "      <td>0.852669</td>\n",
       "      <td>428.257651</td>\n",
       "      <td>595.646258</td>\n",
       "      <td>1.105049</td>\n",
       "    </tr>\n",
       "    <tr>\n",
       "      <th>min</th>\n",
       "      <td>0.000000</td>\n",
       "      <td>0.000000</td>\n",
       "      <td>1.000000</td>\n",
       "      <td>0.000000</td>\n",
       "      <td>50.000000</td>\n",
       "      <td>1.000000</td>\n",
       "    </tr>\n",
       "    <tr>\n",
       "      <th>25%</th>\n",
       "      <td>77.098791</td>\n",
       "      <td>28.492260</td>\n",
       "      <td>1.000000</td>\n",
       "      <td>4.000000</td>\n",
       "      <td>300.000000</td>\n",
       "      <td>2.100000</td>\n",
       "    </tr>\n",
       "    <tr>\n",
       "      <th>50%</th>\n",
       "      <td>77.203351</td>\n",
       "      <td>28.569906</td>\n",
       "      <td>2.000000</td>\n",
       "      <td>24.000000</td>\n",
       "      <td>450.000000</td>\n",
       "      <td>3.100000</td>\n",
       "    </tr>\n",
       "    <tr>\n",
       "      <th>75%</th>\n",
       "      <td>77.285065</td>\n",
       "      <td>28.637950</td>\n",
       "      <td>2.000000</td>\n",
       "      <td>100.000000</td>\n",
       "      <td>700.000000</td>\n",
       "      <td>3.600000</td>\n",
       "    </tr>\n",
       "    <tr>\n",
       "      <th>max</th>\n",
       "      <td>91.806493</td>\n",
       "      <td>35.000000</td>\n",
       "      <td>4.000000</td>\n",
       "      <td>10934.000000</td>\n",
       "      <td>8000.000000</td>\n",
       "      <td>4.900000</td>\n",
       "    </tr>\n",
       "  </tbody>\n",
       "</table>\n",
       "</div>"
      ],
      "text/plain": [
       "         Longitude     Latitude  Price range         Votes  \\\n",
       "count  8643.000000  8643.000000  8643.000000   8643.000000   \n",
       "mean     72.867896    26.426365     1.722434    137.270045   \n",
       "std      17.991596     6.968468     0.852669    428.257651   \n",
       "min       0.000000     0.000000     1.000000      0.000000   \n",
       "25%      77.098791    28.492260     1.000000      4.000000   \n",
       "50%      77.203351    28.569906     2.000000     24.000000   \n",
       "75%      77.285065    28.637950     2.000000    100.000000   \n",
       "max      91.806493    35.000000     4.000000  10934.000000   \n",
       "\n",
       "       Average Cost for two       Rating  \n",
       "count           8643.000000  8643.000000  \n",
       "mean             624.019438     2.769374  \n",
       "std              595.646258     1.105049  \n",
       "min               50.000000     1.000000  \n",
       "25%              300.000000     2.100000  \n",
       "50%              450.000000     3.100000  \n",
       "75%              700.000000     3.600000  \n",
       "max             8000.000000     4.900000  "
      ]
     },
     "execution_count": 13,
     "metadata": {},
     "output_type": "execute_result"
    }
   ],
   "source": [
    "RtData.describe()"
   ]
  },
  {
   "cell_type": "markdown",
   "id": "7fecea41",
   "metadata": {},
   "source": [
    "# Visual Exploratory Data Analysis\n",
    "* Categorical variables: Bar plot\n",
    "* Continuous variables: Histogram"
   ]
  },
  {
   "cell_type": "markdown",
   "id": "767d6898",
   "metadata": {},
   "source": [
    "## Visualizing the distribution of all the Categorical Predictor variables in the data using bar plots\n",
    "\n",
    "Categorical Predictors: 'Country Code', 'Currency', 'Has Table booking', 'Has Online delivery', 'Is delivering now', 'Switch to order menu','Price range'\n",
    "\n",
    "We use bar charts to see how the data is distributed for these categorical columns."
   ]
  },
  {
   "cell_type": "code",
   "execution_count": 14,
   "id": "c5794252",
   "metadata": {},
   "outputs": [],
   "source": [
    "# Plotting multiple bar charts at once for categorical variables\n",
    "# Since there is no default function which can plot bar charts for multiple columns at once\n",
    "# defining my own function for the same\n",
    "\n",
    "def PlotBarCharts(inpData, colsToPlot):\n",
    "    %matplotlib inline\n",
    "    \n",
    "    import matplotlib.pyplot as plt \n",
    "    \n",
    "    #Generating multiple subplots\n",
    "    fig, subPlot=plt.subplots(nrows=1, ncols=len(colsToPlot), figsize=(20,5))\n",
    "    fig.suptitle('Bar charts of:' + str(colsToPlot))\n",
    "    \n",
    "    for colName, plotNumber in zip(colsToPlot, range(len(colsToPlot))):\n",
    "        inpData.groupby(colName).size().plot(kind='bar', ax=subPlot[plotNumber])"
   ]
  },
  {
   "cell_type": "code",
   "execution_count": 15,
   "id": "5835bbad",
   "metadata": {},
   "outputs": [
    {
     "data": {
      "image/png": "[encoded data removed]",
      "text/plain": [
       "<Figure size 1440x360 with 4 Axes>"
      ]
     },
     "metadata": {
      "needs_background": "light"
     },
     "output_type": "display_data"
    }
   ],
   "source": [
    "#####################################################################\n",
    "# Calling the function\n",
    "PlotBarCharts(inpData=RtData, colsToPlot=['Has Table booking', 'Has Online delivery', 'Is delivering now','Price range'])"
   ]
  },
  {
   "cell_type": "markdown",
   "id": "063f43d0",
   "metadata": {},
   "source": [
    "In this data, \"Country Code\", \"Currency\", \"is delivering now\" and \"Switch to order menu\" are too skewed. There is just one bar which is dominating and other categories have very less rows or there is just one value only. Such columns are not correlated with the target variable because there is no information to learn. The algorithms cannot find any rule like when the value is this then the target variable is that.\n",
    "\n",
    "Selected Categorical Variables: Only three categorical variables are selected for further analysis.\n",
    "\n",
    "'Has Table booking', 'Has Online delivery', 'Price range'"
   ]
  },
  {
   "cell_type": "markdown",
   "id": "5ebe0e11",
   "metadata": {},
   "source": [
    "## Visualizing distribution of all the Continuous Predictor variables in the data using histograms\n",
    "Based on the Basic Data Exploration, There are four continuous predictor variables ''Longitude', 'Latitude','Votes', and 'Average Cost for two'"
   ]
  },
  {
   "cell_type": "code",
   "execution_count": 16,
   "id": "75e6a92d",
   "metadata": {},
   "outputs": [
    {
     "data": {
      "text/plain": [
       "array([[<AxesSubplot:title={'center':'Longitude'}>,\n",
       "        <AxesSubplot:title={'center':'Latitude'}>],\n",
       "       [<AxesSubplot:title={'center':'Votes'}>,\n",
       "        <AxesSubplot:title={'center':'Average Cost for two'}>]],\n",
       "      dtype=object)"
      ]
     },
     "execution_count": 16,
     "metadata": {},
     "output_type": "execute_result"
    },
    {
     "data": {
      "image/png": "[encoded data removed]",
      "text/plain": [
       "<Figure size 1152x576 with 4 Axes>"
      ]
     },
     "metadata": {
      "needs_background": "light"
     },
     "output_type": "display_data"
    }
   ],
   "source": [
    "# Plotting histograms of multiple columns together\n",
    "RtData.hist(['Longitude', 'Latitude', \n",
    "                 'Votes', 'Average Cost for two'], figsize=(16,8))"
   ]
  },
  {
   "cell_type": "markdown",
   "id": "5dfd795e",
   "metadata": {},
   "source": [
    "## Histogram Interpretation:\n",
    "\n",
    "The ideal outcome for histogram is a bell curve or slightly skewed bell curve. If there is too much skewness, then outlier treatment should be done and the column should be re-examined, if that also does not solve the problem then only reject the column.\n",
    "\n",
    "Selected Continuous Variables:\n",
    "\n",
    "* Longitude : Selected. The distribution is good.\n",
    "* Latitude: Selected. The distribution is good.\n",
    "* Average Cost for two: Selected. Outliers seen beyond 300000, need to treat them.\n",
    "* Votes: Selected. Outliers seen beyond 4000, need to treat them."
   ]
  },
  {
   "cell_type": "markdown",
   "id": "facf6910",
   "metadata": {},
   "source": [
    "## Outliers\n",
    "\n",
    "Outliers bias the training of machine learning models. As the algorithm tries to fit the extreme value, it goes away from majority of the data.\n",
    "\n",
    "There are below two options to treat outliers in the data.\n",
    "\n",
    "* Option-1: Delete the outlier Records. Only if there are just few rows lost.\n",
    "* Option-2: Impute the outlier values with a logical business value\n",
    "\n",
    "Below we are finding out the most logical value to be replaced in place of outliers by looking at the histogram."
   ]
  },
  {
   "cell_type": "markdown",
   "id": "dbfdd016",
   "metadata": {},
   "source": [
    "### Replacing outliers for 'Votes'"
   ]
  },
  {
   "cell_type": "code",
   "execution_count": 17,
   "id": "feb3fec7",
   "metadata": {},
   "outputs": [
    {
     "data": {
      "text/plain": [
       "7863    3986\n",
       "821     3848\n",
       "3992    3697\n",
       "3119    3591\n",
       "1861    3569\n",
       "        ... \n",
       "6102       0\n",
       "6099       0\n",
       "6098       0\n",
       "6091       0\n",
       "5427       0\n",
       "Name: Votes, Length: 8624, dtype: int64"
      ]
     },
     "execution_count": 17,
     "metadata": {},
     "output_type": "execute_result"
    }
   ],
   "source": [
    "#Finding nearest values to 4000 mark \n",
    "RtData['Votes'][RtData['Votes']<4000].sort_values(ascending=False)"
   ]
  },
  {
   "cell_type": "code",
   "execution_count": 18,
   "id": "61bf5b31",
   "metadata": {},
   "outputs": [],
   "source": [
    "#Above result shows the nearest logical value is 3986, hence, replacing any value above 4000 with it.\n",
    "# Replacing outliers with nearest possibe value\n",
    "RtData['Votes'][RtData['Votes']>4000] =3986\n"
   ]
  },
  {
   "cell_type": "markdown",
   "id": "299fddb7",
   "metadata": {},
   "source": [
    "### Replacing outliers for 'Average Cost for two'"
   ]
  },
  {
   "cell_type": "code",
   "execution_count": 19,
   "id": "777746a0",
   "metadata": {},
   "outputs": [
    {
     "data": {
      "text/plain": [
       "7543    8000\n",
       "4088    7000\n",
       "4087    6500\n",
       "7499    6000\n",
       "7538    6000\n",
       "        ... \n",
       "5577      50\n",
       "7775      50\n",
       "7808      50\n",
       "7830      50\n",
       "7418      50\n",
       "Name: Average Cost for two, Length: 8643, dtype: int64"
      ]
     },
     "execution_count": 19,
     "metadata": {},
     "output_type": "execute_result"
    }
   ],
   "source": [
    "# Finding nearest values to 50000 mark\n",
    "RtData['Average Cost for two'][RtData['Average Cost for two']<50000].sort_values(ascending=False)"
   ]
  },
  {
   "cell_type": "code",
   "execution_count": 20,
   "id": "166677a9",
   "metadata": {},
   "outputs": [],
   "source": [
    "#Above result shows the nearest logical value is 8000, hence, replacing any value above 50000 with it.\n",
    "## Replacing outliers with nearest possibe value\n",
    "RtData['Average Cost for two'][RtData['Average Cost for two']>50000] = 8000"
   ]
  },
  {
   "cell_type": "markdown",
   "id": "88a14236",
   "metadata": {},
   "source": [
    "## Visualizing distribution after outlier treatment"
   ]
  },
  {
   "cell_type": "markdown",
   "id": "be501277",
   "metadata": {},
   "source": [
    "The distribution has improved after the outlier treatment. There is still a tail but it is thick, that means there are many values in that range, hence, it is acceptable."
   ]
  },
  {
   "cell_type": "code",
   "execution_count": 21,
   "id": "b95a1acc",
   "metadata": {},
   "outputs": [
    {
     "data": {
      "text/plain": [
       "array([[<AxesSubplot:title={'center':'Votes'}>,\n",
       "        <AxesSubplot:title={'center':'Average Cost for two'}>]],\n",
       "      dtype=object)"
      ]
     },
     "execution_count": 21,
     "metadata": {},
     "output_type": "execute_result"
    },
    {
     "data": {
      "image/png": "[encoded data removed]",
      "text/plain": [
       "<Figure size 1296x360 with 2 Axes>"
      ]
     },
     "metadata": {
      "needs_background": "light"
     },
     "output_type": "display_data"
    }
   ],
   "source": [
    "RtData.hist(['Votes', 'Average Cost for two'], figsize=(18,5))"
   ]
  },
  {
   "cell_type": "markdown",
   "id": "7c84adf2",
   "metadata": {},
   "source": [
    "## Missing values treatment"
   ]
  },
  {
   "cell_type": "code",
   "execution_count": 22,
   "id": "1a65122a",
   "metadata": {},
   "outputs": [
    {
     "data": {
      "text/plain": [
       "Longitude               0\n",
       "Latitude                0\n",
       "Has Table booking       0\n",
       "Has Online delivery     0\n",
       "Is delivering now       0\n",
       "Price range             0\n",
       "Votes                   0\n",
       "Average Cost for two    0\n",
       "Rating                  0\n",
       "dtype: int64"
      ]
     },
     "execution_count": 22,
     "metadata": {},
     "output_type": "execute_result"
    }
   ],
   "source": [
    "# Finding how many missing values are there for each column\n",
    "RtData.isnull().sum()"
   ]
  },
  {
   "cell_type": "markdown",
   "id": "1898443a",
   "metadata": {},
   "source": [
    "No missing values in this data."
   ]
  },
  {
   "cell_type": "markdown",
   "id": "1d68f401",
   "metadata": {},
   "source": [
    "# Feature Selection\n",
    "Now its time to finally choose the best columns(Features) which are correlated to the Target variable. This can be done directly by measuring the correlation values or ANOVA/Chi-Square tests. However, it is always helpful to visualize the relation between the Target variable and each of the predictors to get a better sense of data."
   ]
  },
  {
   "cell_type": "markdown",
   "id": "9adf0b1d",
   "metadata": {},
   "source": [
    "In this case study the Target variable is Continuous, hence below two scenarios will be present\n",
    "\n",
    "* Continuous Target Variable Vs Continuous Predictor\n",
    "* Continuous Target Variable Vs Categorical Predictor"
   ]
  },
  {
   "cell_type": "markdown",
   "id": "9922c5dc",
   "metadata": {},
   "source": [
    "## Relationship exploration: Continuous Vs Continuous -- Scatter Charts"
   ]
  },
  {
   "cell_type": "code",
   "execution_count": 23,
   "id": "8cacda0b",
   "metadata": {},
   "outputs": [
    {
     "data": {
      "image/png": "[encoded data removed]",
      "text/plain": [
       "<Figure size 720x360 with 1 Axes>"
      ]
     },
     "metadata": {
      "needs_background": "light"
     },
     "output_type": "display_data"
    },
    {
     "data": {
      "image/png": "[encoded data removed]",
      "text/plain": [
       "<Figure size 720x360 with 1 Axes>"
      ]
     },
     "metadata": {
      "needs_background": "light"
     },
     "output_type": "display_data"
    },
    {
     "data": {
      "image/png": "[encoded data removed]",
      "text/plain": [
       "<Figure size 720x360 with 1 Axes>"
      ]
     },
     "metadata": {
      "needs_background": "light"
     },
     "output_type": "display_data"
    },
    {
     "data": {
      "image/png": "[encoded data removed]",
      "text/plain": [
       "<Figure size 720x360 with 1 Axes>"
      ]
     },
     "metadata": {
      "needs_background": "light"
     },
     "output_type": "display_data"
    }
   ],
   "source": [
    "ContinuousCols=['Longitude', 'Latitude', 'Votes', 'Average Cost for two']\n",
    "\n",
    "# Plotting scatter chart for each predictor vs the target variable\n",
    "for predictor in ContinuousCols:\n",
    "    RtData.plot.scatter(x=predictor, y='Rating', figsize=(10,5), title=predictor+\" VS \"+ 'Rating')"
   ]
  },
  {
   "cell_type": "markdown",
   "id": "78c2e273",
   "metadata": {},
   "source": [
    "# Statistical Feature Selection (Continuous Vs Continuous) using Correlation value"
   ]
  },
  {
   "cell_type": "code",
   "execution_count": 24,
   "id": "2d3c371a",
   "metadata": {},
   "outputs": [
    {
     "data": {
      "text/html": [
       "<div>\n",
       "<style scoped>\n",
       "    .dataframe tbody tr th:only-of-type {\n",
       "        vertical-align: middle;\n",
       "    }\n",
       "\n",
       "    .dataframe tbody tr th {\n",
       "        vertical-align: top;\n",
       "    }\n",
       "\n",
       "    .dataframe thead th {\n",
       "        text-align: right;\n",
       "    }\n",
       "</style>\n",
       "<table border=\"1\" class=\"dataframe\">\n",
       "  <thead>\n",
       "    <tr style=\"text-align: right;\">\n",
       "      <th></th>\n",
       "      <th>Rating</th>\n",
       "      <th>Longitude</th>\n",
       "      <th>Latitude</th>\n",
       "      <th>Votes</th>\n",
       "      <th>Average Cost for two</th>\n",
       "    </tr>\n",
       "  </thead>\n",
       "  <tbody>\n",
       "    <tr>\n",
       "      <th>Rating</th>\n",
       "      <td>1.000000</td>\n",
       "      <td>0.161800</td>\n",
       "      <td>0.065156</td>\n",
       "      <td>0.358131</td>\n",
       "      <td>0.366275</td>\n",
       "    </tr>\n",
       "    <tr>\n",
       "      <th>Longitude</th>\n",
       "      <td>0.161800</td>\n",
       "      <td>1.000000</td>\n",
       "      <td>0.926590</td>\n",
       "      <td>0.076411</td>\n",
       "      <td>0.059605</td>\n",
       "    </tr>\n",
       "    <tr>\n",
       "      <th>Latitude</th>\n",
       "      <td>0.065156</td>\n",
       "      <td>0.926590</td>\n",
       "      <td>1.000000</td>\n",
       "      <td>-0.035178</td>\n",
       "      <td>0.017787</td>\n",
       "    </tr>\n",
       "    <tr>\n",
       "      <th>Votes</th>\n",
       "      <td>0.358131</td>\n",
       "      <td>0.076411</td>\n",
       "      <td>-0.035178</td>\n",
       "      <td>1.000000</td>\n",
       "      <td>0.314376</td>\n",
       "    </tr>\n",
       "    <tr>\n",
       "      <th>Average Cost for two</th>\n",
       "      <td>0.366275</td>\n",
       "      <td>0.059605</td>\n",
       "      <td>0.017787</td>\n",
       "      <td>0.314376</td>\n",
       "      <td>1.000000</td>\n",
       "    </tr>\n",
       "  </tbody>\n",
       "</table>\n",
       "</div>"
      ],
      "text/plain": [
       "                        Rating  Longitude  Latitude     Votes  \\\n",
       "Rating                1.000000   0.161800  0.065156  0.358131   \n",
       "Longitude             0.161800   1.000000  0.926590  0.076411   \n",
       "Latitude              0.065156   0.926590  1.000000 -0.035178   \n",
       "Votes                 0.358131   0.076411 -0.035178  1.000000   \n",
       "Average Cost for two  0.366275   0.059605  0.017787  0.314376   \n",
       "\n",
       "                      Average Cost for two  \n",
       "Rating                            0.366275  \n",
       "Longitude                         0.059605  \n",
       "Latitude                          0.017787  \n",
       "Votes                             0.314376  \n",
       "Average Cost for two              1.000000  "
      ]
     },
     "execution_count": 24,
     "metadata": {},
     "output_type": "execute_result"
    }
   ],
   "source": [
    "# Calculating correlation matrix\n",
    "ContinuousCols=['Rating','Longitude', 'Latitude', 'Votes', 'Average Cost for two']\n",
    "\n",
    "# Creating the correlation matrix\n",
    "CorrelationData=RtData[ContinuousCols].corr()\n",
    "CorrelationData"
   ]
  },
  {
   "cell_type": "code",
   "execution_count": 25,
   "id": "0fd7f7a7",
   "metadata": {},
   "outputs": [
    {
     "data": {
      "text/plain": [
       "Rating                  1.000000\n",
       "Votes                   0.358131\n",
       "Average Cost for two    0.366275\n",
       "Name: Rating, dtype: float64"
      ]
     },
     "execution_count": 25,
     "metadata": {},
     "output_type": "execute_result"
    }
   ],
   "source": [
    "# Filtering only those columns where absolute correlation > 0.5 with Target Variable\n",
    "# reducing the 0.5 threshold if no variable is selected like in this case\n",
    "CorrelationData['Rating'][abs(CorrelationData['Rating']) > 0.3 ]\n"
   ]
  },
  {
   "cell_type": "markdown",
   "id": "4c343a14",
   "metadata": {},
   "source": [
    "Final selected Continuous columns:\n",
    "\n",
    "'Votes', 'Average Cost for two'"
   ]
  },
  {
   "cell_type": "markdown",
   "id": "67ab87df",
   "metadata": {},
   "source": [
    "# Relationship exploration: Categorical Vs Continuous -- Box Plots\n"
   ]
  },
  {
   "cell_type": "markdown",
   "id": "d5a1137f",
   "metadata": {},
   "source": [
    "When the target variable is Continuous and the predictor variable is Categorical we analyze the relation using Boxplots and measure the strength of relation using Anova test"
   ]
  },
  {
   "cell_type": "code",
   "execution_count": 26,
   "id": "02cab522",
   "metadata": {},
   "outputs": [
    {
     "data": {
      "image/png": "[encoded data removed]",
      "text/plain": [
       "<Figure size 1296x360 with 3 Axes>"
      ]
     },
     "metadata": {
      "needs_background": "light"
     },
     "output_type": "display_data"
    }
   ],
   "source": [
    "# Box plots for Categorical Target Variable \"Rating\" and continuous predictors\n",
    "CategoricalColsList=['Has Table booking', 'Has Online delivery', 'Price range']\n",
    "\n",
    "import matplotlib.pyplot as plt\n",
    "fig, PlotCanvas=plt.subplots(nrows=1, ncols=len(CategoricalColsList), figsize=(18,5))\n",
    "\n",
    "# Creating box plots for each continuous predictor against the Target Variable \"Rating\"\n",
    "for PredictorCol , i in zip(CategoricalColsList, range(len(CategoricalColsList))):\n",
    "    RtData.boxplot(column='Rating', by=PredictorCol, figsize=(5,5), vert=True, ax=PlotCanvas[i])"
   ]
  },
  {
   "cell_type": "markdown",
   "id": "ca28926c",
   "metadata": {},
   "source": [
    "In this data, all three categorical predictors looks correlated with the Target variable.\n",
    "\n",
    "We confirm this by looking at the results of ANOVA test below"
   ]
  },
  {
   "cell_type": "markdown",
   "id": "cea7660f",
   "metadata": {},
   "source": [
    "## Statistical Feature Selection (Categorical Vs Continuous) using ANOVA test¶"
   ]
  },
  {
   "cell_type": "markdown",
   "id": "33258606",
   "metadata": {},
   "source": [
    "Analysis of variance(ANOVA) is performed to check if there is any relationship between the given continuous and categorical variable\n",
    "\n",
    "Assumption(H0): There is NO relation between the given variables (i.e. The average(mean) values of the numeric Target variable is same for all the groups in the categorical Predictor variable)\n",
    "ANOVA Test result: Probability of H0 being true"
   ]
  },
  {
   "cell_type": "code",
   "execution_count": 27,
   "id": "f165e879",
   "metadata": {},
   "outputs": [],
   "source": [
    "# Defining a function to find the statistical relationship with all the categorical variables\n",
    "def FunctionAnova(inpData, TargetVariable, CategoricalPredictorList):\n",
    "    from scipy.stats import f_oneway\n",
    "\n",
    "    # Creating an empty list of final selected predictors\n",
    "    SelectedPredictors=[]\n",
    "    \n",
    "    print('##### ANOVA Results ##### \\n')\n",
    "    for predictor in CategoricalPredictorList:\n",
    "        CategoryGroupLists=inpData.groupby(predictor)[TargetVariable].apply(list)\n",
    "        AnovaResults = f_oneway(*CategoryGroupLists)\n",
    "        \n",
    "        # If the ANOVA P-Value is <0.05, that means we reject H0\n",
    "        if (AnovaResults[1] < 0.05):\n",
    "            print(predictor, 'is correlated with', TargetVariable, '| P-Value:', AnovaResults[1])\n",
    "            SelectedPredictors.append(predictor)\n",
    "        else:\n",
    "            print(predictor, 'is NOT correlated with', TargetVariable, '| P-Value:', AnovaResults[1])\n",
    "    \n",
    "    return(SelectedPredictors)"
   ]
  },
  {
   "cell_type": "code",
   "execution_count": 28,
   "id": "e8d32462",
   "metadata": {},
   "outputs": [
    {
     "name": "stdout",
     "output_type": "stream",
     "text": [
      "##### ANOVA Results ##### \n",
      "\n",
      "Has Table booking is correlated with Rating | P-Value: 1.0038500766899416e-107\n",
      "Has Online delivery is correlated with Rating | P-Value: 3.4341981048863214e-164\n",
      "Price range is correlated with Rating | P-Value: 0.0\n"
     ]
    },
    {
     "data": {
      "text/plain": [
       "['Has Table booking', 'Has Online delivery', 'Price range']"
      ]
     },
     "execution_count": 28,
     "metadata": {},
     "output_type": "execute_result"
    }
   ],
   "source": [
    "# Calling the function to check which categorical variables are correlated with target\n",
    "CategoricalPredictorList=['Has Table booking', 'Has Online delivery', 'Price range']\n",
    "FunctionAnova(inpData=RtData, \n",
    "              TargetVariable='Rating', \n",
    "              CategoricalPredictorList=CategoricalPredictorList)"
   ]
  },
  {
   "cell_type": "markdown",
   "id": "e9d9393f",
   "metadata": {},
   "source": [
    "The results of ANOVA confirm our visual analysis using box plots above.\n",
    "\n",
    "All categorical variables are correlated with the Target variable. This is something we guessed by looking at the box plots!\n",
    "\n",
    "Final selected Categorical columns:\n",
    "\n",
    "'Has Table booking', 'Has Online delivery', 'Price range'"
   ]
  },
  {
   "cell_type": "markdown",
   "id": "4804593e",
   "metadata": {},
   "source": [
    "# Selecting final predictors for Machine Learning"
   ]
  },
  {
   "cell_type": "markdown",
   "id": "48574116",
   "metadata": {},
   "source": [
    "Based on the above tests, selecting the final columns for machine learning"
   ]
  },
  {
   "cell_type": "code",
   "execution_count": 29,
   "id": "5580036e",
   "metadata": {},
   "outputs": [
    {
     "data": {
      "text/html": [
       "<div>\n",
       "<style scoped>\n",
       "    .dataframe tbody tr th:only-of-type {\n",
       "        vertical-align: middle;\n",
       "    }\n",
       "\n",
       "    .dataframe tbody tr th {\n",
       "        vertical-align: top;\n",
       "    }\n",
       "\n",
       "    .dataframe thead th {\n",
       "        text-align: right;\n",
       "    }\n",
       "</style>\n",
       "<table border=\"1\" class=\"dataframe\">\n",
       "  <thead>\n",
       "    <tr style=\"text-align: right;\">\n",
       "      <th></th>\n",
       "      <th>Votes</th>\n",
       "      <th>Average Cost for two</th>\n",
       "      <th>Has Table booking</th>\n",
       "      <th>Has Online delivery</th>\n",
       "      <th>Price range</th>\n",
       "    </tr>\n",
       "  </thead>\n",
       "  <tbody>\n",
       "    <tr>\n",
       "      <th>624</th>\n",
       "      <td>140</td>\n",
       "      <td>850</td>\n",
       "      <td>No</td>\n",
       "      <td>No</td>\n",
       "      <td>3</td>\n",
       "    </tr>\n",
       "    <tr>\n",
       "      <th>625</th>\n",
       "      <td>71</td>\n",
       "      <td>700</td>\n",
       "      <td>No</td>\n",
       "      <td>No</td>\n",
       "      <td>2</td>\n",
       "    </tr>\n",
       "    <tr>\n",
       "      <th>626</th>\n",
       "      <td>94</td>\n",
       "      <td>500</td>\n",
       "      <td>No</td>\n",
       "      <td>No</td>\n",
       "      <td>2</td>\n",
       "    </tr>\n",
       "    <tr>\n",
       "      <th>627</th>\n",
       "      <td>87</td>\n",
       "      <td>400</td>\n",
       "      <td>No</td>\n",
       "      <td>No</td>\n",
       "      <td>2</td>\n",
       "    </tr>\n",
       "    <tr>\n",
       "      <th>628</th>\n",
       "      <td>177</td>\n",
       "      <td>1000</td>\n",
       "      <td>No</td>\n",
       "      <td>No</td>\n",
       "      <td>3</td>\n",
       "    </tr>\n",
       "  </tbody>\n",
       "</table>\n",
       "</div>"
      ],
      "text/plain": [
       "     Votes  Average Cost for two Has Table booking Has Online delivery  \\\n",
       "624    140                   850                No                  No   \n",
       "625     71                   700                No                  No   \n",
       "626     94                   500                No                  No   \n",
       "627     87                   400                No                  No   \n",
       "628    177                  1000                No                  No   \n",
       "\n",
       "     Price range  \n",
       "624            3  \n",
       "625            2  \n",
       "626            2  \n",
       "627            2  \n",
       "628            3  "
      ]
     },
     "execution_count": 29,
     "metadata": {},
     "output_type": "execute_result"
    }
   ],
   "source": [
    "SelectedColumns=['Votes','Average Cost for two','Has Table booking',\n",
    "                 'Has Online delivery','Price range']\n",
    "\n",
    "# Selecting final columns\n",
    "DataForML=RtData[SelectedColumns]\n",
    "DataForML.head()"
   ]
  },
  {
   "cell_type": "markdown",
   "id": "c8a207a6",
   "metadata": {},
   "source": [
    "## Data Pre-processing for Machine Learning"
   ]
  },
  {
   "cell_type": "markdown",
   "id": "2398894e",
   "metadata": {},
   "source": [
    "In this data there is no Ordinal categorical variable."
   ]
  },
  {
   "cell_type": "markdown",
   "id": "085c49b0",
   "metadata": {},
   "source": [
    "## Converting the binary nominal variable to numeric using 1/0 mapping"
   ]
  },
  {
   "cell_type": "code",
   "execution_count": 30,
   "id": "a74741c1",
   "metadata": {},
   "outputs": [],
   "source": [
    "# Converting the binary nominal variable sex to numeric\n",
    "DataForML['Has Table booking'].replace({'Yes':1, 'No':0}, inplace=True)\n",
    "DataForML['Has Online delivery'].replace({'Yes':1, 'No':0}, inplace=True)"
   ]
  },
  {
   "cell_type": "markdown",
   "id": "ce49cb53",
   "metadata": {},
   "source": [
    "## Converting the nominal variable to numeric using get_dummies()"
   ]
  },
  {
   "cell_type": "code",
   "execution_count": 31,
   "id": "64a19fc0",
   "metadata": {},
   "outputs": [
    {
     "data": {
      "text/html": [
       "<div>\n",
       "<style scoped>\n",
       "    .dataframe tbody tr th:only-of-type {\n",
       "        vertical-align: middle;\n",
       "    }\n",
       "\n",
       "    .dataframe tbody tr th {\n",
       "        vertical-align: top;\n",
       "    }\n",
       "\n",
       "    .dataframe thead th {\n",
       "        text-align: right;\n",
       "    }\n",
       "</style>\n",
       "<table border=\"1\" class=\"dataframe\">\n",
       "  <thead>\n",
       "    <tr style=\"text-align: right;\">\n",
       "      <th></th>\n",
       "      <th>Votes</th>\n",
       "      <th>Average Cost for two</th>\n",
       "      <th>Has Table booking</th>\n",
       "      <th>Has Online delivery</th>\n",
       "      <th>Price range</th>\n",
       "      <th>Rating</th>\n",
       "    </tr>\n",
       "  </thead>\n",
       "  <tbody>\n",
       "    <tr>\n",
       "      <th>624</th>\n",
       "      <td>140</td>\n",
       "      <td>850</td>\n",
       "      <td>0</td>\n",
       "      <td>0</td>\n",
       "      <td>3</td>\n",
       "      <td>3.9</td>\n",
       "    </tr>\n",
       "    <tr>\n",
       "      <th>625</th>\n",
       "      <td>71</td>\n",
       "      <td>700</td>\n",
       "      <td>0</td>\n",
       "      <td>0</td>\n",
       "      <td>2</td>\n",
       "      <td>3.5</td>\n",
       "    </tr>\n",
       "    <tr>\n",
       "      <th>626</th>\n",
       "      <td>94</td>\n",
       "      <td>500</td>\n",
       "      <td>0</td>\n",
       "      <td>0</td>\n",
       "      <td>2</td>\n",
       "      <td>3.6</td>\n",
       "    </tr>\n",
       "    <tr>\n",
       "      <th>627</th>\n",
       "      <td>87</td>\n",
       "      <td>400</td>\n",
       "      <td>0</td>\n",
       "      <td>0</td>\n",
       "      <td>2</td>\n",
       "      <td>4.0</td>\n",
       "    </tr>\n",
       "    <tr>\n",
       "      <th>628</th>\n",
       "      <td>177</td>\n",
       "      <td>1000</td>\n",
       "      <td>0</td>\n",
       "      <td>0</td>\n",
       "      <td>3</td>\n",
       "      <td>4.2</td>\n",
       "    </tr>\n",
       "  </tbody>\n",
       "</table>\n",
       "</div>"
      ],
      "text/plain": [
       "     Votes  Average Cost for two  Has Table booking  Has Online delivery  \\\n",
       "624    140                   850                  0                    0   \n",
       "625     71                   700                  0                    0   \n",
       "626     94                   500                  0                    0   \n",
       "627     87                   400                  0                    0   \n",
       "628    177                  1000                  0                    0   \n",
       "\n",
       "     Price range  Rating  \n",
       "624            3     3.9  \n",
       "625            2     3.5  \n",
       "626            2     3.6  \n",
       "627            2     4.0  \n",
       "628            3     4.2  "
      ]
     },
     "execution_count": 31,
     "metadata": {},
     "output_type": "execute_result"
    }
   ],
   "source": [
    "# Treating all the nominal variables at once using dummy variables\n",
    "DataForML_Numeric=pd.get_dummies(DataForML)\n",
    "\n",
    "# Adding Target Variable to the data\n",
    "DataForML_Numeric['Rating']=RtData['Rating']\n",
    "\n",
    "# Printing sample rows\n",
    "DataForML_Numeric.head()"
   ]
  },
  {
   "cell_type": "markdown",
   "id": "61262704",
   "metadata": {},
   "source": [
    "# Machine Learning: Splitting the data into Training and Testing sample"
   ]
  },
  {
   "cell_type": "markdown",
   "id": "41fdbfac",
   "metadata": {},
   "source": [
    "Typically 70% of data is used as Training data and the rest 30% is used as Tesing data."
   ]
  },
  {
   "cell_type": "code",
   "execution_count": 32,
   "id": "b98ed60d",
   "metadata": {},
   "outputs": [
    {
     "data": {
      "text/plain": [
       "Index(['Votes', 'Average Cost for two', 'Has Table booking',\n",
       "       'Has Online delivery', 'Price range', 'Rating'],\n",
       "      dtype='object')"
      ]
     },
     "execution_count": 32,
     "metadata": {},
     "output_type": "execute_result"
    }
   ],
   "source": [
    "# Printing all the column names for our reference\n",
    "DataForML_Numeric.columns\n"
   ]
  },
  {
   "cell_type": "code",
   "execution_count": 33,
   "id": "bebcb2a6",
   "metadata": {},
   "outputs": [],
   "source": [
    "# Separate Target Variable and Predictor Variables\n",
    "TargetVariable='Rating'\n",
    "Predictors=['Votes', 'Average Cost for two', 'Has Table booking',\n",
    "           'Has Online delivery', 'Price range']\n",
    "\n",
    "X=DataForML_Numeric[Predictors].values\n",
    "y=DataForML_Numeric[TargetVariable].values\n",
    "\n",
    "# Split the data into training and testing set\n",
    "from sklearn.model_selection import train_test_split\n",
    "X_train, X_test, y_train, y_test = train_test_split(X, y, test_size=0.3, random_state=428)"
   ]
  },
  {
   "cell_type": "markdown",
   "id": "bcbab952",
   "metadata": {},
   "source": [
    "## Multiple Linear Regression"
   ]
  },
  {
   "cell_type": "code",
   "execution_count": 34,
   "id": "3b33245f",
   "metadata": {},
   "outputs": [
    {
     "name": "stdout",
     "output_type": "stream",
     "text": [
      "LinearRegression()\n",
      "R2 Value: 0.2822477862429039\n",
      "\n",
      "##### Model Validation and Accuracy Calculations ##########\n",
      "   Rating  PredictedRating\n",
      "0     2.9              3.0\n",
      "1     3.7              3.0\n",
      "2     1.0              2.0\n",
      "3     1.0              3.0\n",
      "4     3.5              3.0\n",
      "Mean Accuracy on test data: 54.27566840471535\n",
      "Median Accuracy on test data: 73.17073170731707\n",
      "\n",
      "Accuracy values for 10-fold Cross Validation:\n",
      " [63.29631315 55.34985851 65.91701358 54.61968483 61.68027359 28.73432509\n",
      " 54.74405807 54.04180231 39.11057895 45.93544349]\n",
      "\n",
      "Final Average Accuracy of the model: 52.34\n"
     ]
    }
   ],
   "source": [
    "# Multiple Linear Regression\n",
    "from sklearn.linear_model import LinearRegression\n",
    "RegModel = LinearRegression()\n",
    "\n",
    "# Printing all the parameters of Linear regression\n",
    "print(RegModel)\n",
    "\n",
    "# Creating the model on Training Data\n",
    "LREG=RegModel.fit(X_train,y_train)\n",
    "prediction=LREG.predict(X_test)\n",
    "\n",
    "# Taking the standardized values to original scale\n",
    "\n",
    "\n",
    "from sklearn import metrics\n",
    "# Measuring Goodness of fit in Training data\n",
    "print('R2 Value:',metrics.r2_score(y_train, LREG.predict(X_train)))\n",
    "\n",
    "###########################################################################\n",
    "print('\\n##### Model Validation and Accuracy Calculations ##########')\n",
    "\n",
    "# Printing some sample values of prediction\n",
    "TestingDataResults=pd.DataFrame(data=X_test, columns=Predictors)\n",
    "TestingDataResults[TargetVariable]=y_test\n",
    "TestingDataResults[('Predicted'+TargetVariable)]=np.round(prediction)\n",
    "\n",
    "# Printing sample prediction values\n",
    "print(TestingDataResults[[TargetVariable,'Predicted'+TargetVariable]].head())\n",
    "\n",
    "# Calculating the error for each row\n",
    "TestingDataResults['APE']=100 * ((abs(\n",
    "  TestingDataResults['Rating']-TestingDataResults['PredictedRating']))/TestingDataResults['Rating'])\n",
    "\n",
    "MAPE=np.mean(TestingDataResults['APE'])\n",
    "MedianMAPE=np.median(TestingDataResults['APE'])\n",
    "\n",
    "Accuracy =100 - MAPE\n",
    "MedianAccuracy=100- MedianMAPE\n",
    "print('Mean Accuracy on test data:', Accuracy) # Can be negative sometimes due to outlier\n",
    "print('Median Accuracy on test data:', MedianAccuracy)\n",
    "\n",
    "\n",
    "# Defining a custom function to calculate accuracy\n",
    "# Make sure there are no zeros in the Target variable if you are using MAPE\n",
    "def Accuracy_Score(orig,pred):\n",
    "    MAPE = np.mean(100 * (np.abs(orig-pred)/orig))\n",
    "    #print('#'*70,'Accuracy:', 100-MAPE)\n",
    "    return(100-MAPE)\n",
    "\n",
    "# Custom Scoring MAPE calculation\n",
    "from sklearn.metrics import make_scorer\n",
    "custom_Scoring=make_scorer(Accuracy_Score, greater_is_better=True)\n",
    "\n",
    "# Importing cross validation function from sklearn\n",
    "from sklearn.model_selection import cross_val_score\n",
    "\n",
    "# Running 10-Fold Cross validation on a given algorithm\n",
    "# Passing full data X and y because the K-fold will split the data and automatically choose train/test\n",
    "Accuracy_Values=cross_val_score(RegModel, X , y, cv=10, scoring=custom_Scoring)\n",
    "print('\\nAccuracy values for 10-fold Cross Validation:\\n',Accuracy_Values)\n",
    "print('\\nFinal Average Accuracy of the model:', round(Accuracy_Values.mean(),2))"
   ]
  },
  {
   "cell_type": "markdown",
   "id": "2fcffbde",
   "metadata": {},
   "source": [
    "## Decision Trees"
   ]
  },
  {
   "cell_type": "code",
   "execution_count": 35,
   "id": "c97e5083",
   "metadata": {},
   "outputs": [
    {
     "name": "stdout",
     "output_type": "stream",
     "text": [
      "DecisionTreeRegressor(max_depth=6)\n",
      "R2 Value: 0.9141248692925272\n",
      "\n",
      "##### Model Validation and Accuracy Calculations ##########\n",
      "   Rating  PredictedRating\n",
      "0     2.9              3.0\n",
      "1     3.7              3.0\n",
      "2     1.0              1.0\n",
      "3     1.0              1.0\n",
      "4     3.5              3.0\n",
      "Mean Accuracy on test data: 91.8409214775786\n",
      "Median Accuracy on test data: 93.75\n",
      "\n",
      "Accuracy values for 10-fold Cross Validation:\n",
      " [91.95971012 92.92280961 92.51311639 93.48579176 93.36576699 95.2695392\n",
      " 93.34562376 93.75536053 93.57415112 92.68280194]\n",
      "\n",
      "Final Average Accuracy of the model: 93.29\n"
     ]
    },
    {
     "data": {
      "image/png": "[encoded data removed]",
      "text/plain": [
       "<Figure size 432x288 with 1 Axes>"
      ]
     },
     "metadata": {
      "needs_background": "light"
     },
     "output_type": "display_data"
    }
   ],
   "source": [
    "# Decision Trees (Multiple if-else statements!)\n",
    "from sklearn.tree import DecisionTreeRegressor\n",
    "RegModel = DecisionTreeRegressor(max_depth=6,criterion='mse')\n",
    "# Good Range of Max_depth = 2 to 20\n",
    "\n",
    "# Printing all the parameters of Decision Tree\n",
    "print(RegModel)\n",
    "\n",
    "# Creating the model on Training Data\n",
    "DT=RegModel.fit(X_train,y_train)\n",
    "prediction=DT.predict(X_test)\n",
    "\n",
    "from sklearn import metrics\n",
    "# Measuring Goodness of fit in Training data\n",
    "print('R2 Value:',metrics.r2_score(y_train, DT.predict(X_train)))\n",
    "\n",
    "# Plotting the feature importance for Top 10 most important columns\n",
    "%matplotlib inline\n",
    "feature_importances = pd.Series(DT.feature_importances_, index=Predictors)\n",
    "feature_importances.nlargest(10).plot(kind='barh')\n",
    "\n",
    "###########################################################################\n",
    "print('\\n##### Model Validation and Accuracy Calculations ##########')\n",
    "\n",
    "# Printing some sample values of prediction\n",
    "TestingDataResults=pd.DataFrame(data=X_test, columns=Predictors)\n",
    "TestingDataResults[TargetVariable]=y_test\n",
    "TestingDataResults[('Predicted'+TargetVariable)]=np.round(prediction)\n",
    "\n",
    "# Printing sample prediction values\n",
    "print(TestingDataResults[[TargetVariable,'Predicted'+TargetVariable]].head())\n",
    "\n",
    "# Calculating the error for each row\n",
    "TestingDataResults['APE']=100 * ((abs(\n",
    "  TestingDataResults['Rating']-TestingDataResults['PredictedRating']))/TestingDataResults['Rating'])\n",
    "\n",
    "MAPE=np.mean(TestingDataResults['APE'])\n",
    "MedianMAPE=np.median(TestingDataResults['APE'])\n",
    "\n",
    "Accuracy =100 - MAPE\n",
    "MedianAccuracy=100- MedianMAPE\n",
    "print('Mean Accuracy on test data:', Accuracy) # Can be negative sometimes due to outlier\n",
    "print('Median Accuracy on test data:', MedianAccuracy)\n",
    "\n",
    "\n",
    "# Defining a custom function to calculate accuracy\n",
    "# Make sure there are no zeros in the Target variable if you are using MAPE\n",
    "def Accuracy_Score(orig,pred):\n",
    "    MAPE = np.mean(100 * (np.abs(orig-pred)/orig))\n",
    "    #print('#'*70,'Accuracy:', 100-MAPE)\n",
    "    return(100-MAPE)\n",
    "\n",
    "# Custom Scoring MAPE calculation\n",
    "from sklearn.metrics import make_scorer\n",
    "custom_Scoring=make_scorer(Accuracy_Score, greater_is_better=True)\n",
    "\n",
    "# Importing cross validation function from sklearn\n",
    "from sklearn.model_selection import cross_val_score\n",
    "\n",
    "# Running 10-Fold Cross validation on a given algorithm\n",
    "# Passing full data X and y because the K-fold will split the data and automatically choose train/test\n",
    "Accuracy_Values=cross_val_score(RegModel, X , y, cv=10, scoring=custom_Scoring)\n",
    "print('\\nAccuracy values for 10-fold Cross Validation:\\n',Accuracy_Values)\n",
    "print('\\nFinal Average Accuracy of the model:', round(Accuracy_Values.mean(),2))"
   ]
  },
  {
   "cell_type": "code",
   "execution_count": 36,
   "id": "95152103",
   "metadata": {},
   "outputs": [
    {
     "data": {
      "image/png": "[encoded data removed]",
      "text/plain": [
       "<Figure size 1200x1200 with 1 Axes>"
      ]
     },
     "metadata": {
      "needs_background": "light"
     },
     "output_type": "display_data"
    }
   ],
   "source": [
    "#Plotting the Decision Tree\n",
    "from sklearn import tree\n",
    "import matplotlib.pyplot as plt\n",
    "\n",
    "\n",
    "# Setting dpi = 300 to make image clearer than default\n",
    "fig, axes = plt.subplots(nrows = 1,ncols = 1,figsize = (4,4), dpi=300)\n",
    "\n",
    "tree.plot_tree(RegModel,feature_names=Predictors,class_names=TargetVariable,filled = True);\n"
   ]
  },
  {
   "cell_type": "markdown",
   "id": "f8df7c0f",
   "metadata": {},
   "source": [
    "It is hard to visualize the decision tree as it is pretty huge."
   ]
  },
  {
   "cell_type": "markdown",
   "id": "348e14e3",
   "metadata": {},
   "source": [
    "## Random Forest"
   ]
  },
  {
   "cell_type": "code",
   "execution_count": 37,
   "id": "6151d30c",
   "metadata": {},
   "outputs": [
    {
     "name": "stdout",
     "output_type": "stream",
     "text": [
      "RandomForestRegressor(max_depth=2, n_estimators=400)\n",
      "R2 Value: 0.8943867721024563\n",
      "\n",
      "##### Model Validation and Accuracy Calculations ##########\n",
      "   Rating  PredictedRating\n",
      "0     2.9              3.0\n",
      "1     3.7              3.0\n",
      "2     1.0              1.0\n",
      "3     1.0              1.0\n",
      "4     3.5              4.0\n",
      "Mean Accuracy on test data: 91.61895662647301\n",
      "Median Accuracy on test data: 93.75\n",
      "\n",
      "Accuracy values for 10-fold Cross Validation:\n",
      " [90.97725832 92.06985756 91.66206944 92.7406027  92.68782668 94.52208395\n",
      " 92.48665071 92.75477037 92.6387014  91.90550426]\n",
      "\n",
      "Final Average Accuracy of the model: 92.44\n"
     ]
    },
    {
     "data": {
      "image/png": "[encoded data removed]",
      "text/plain": [
       "<Figure size 432x288 with 1 Axes>"
      ]
     },
     "metadata": {
      "needs_background": "light"
     },
     "output_type": "display_data"
    }
   ],
   "source": [
    "# Random Forest (Bagging of multiple Decision Trees)\n",
    "from sklearn.ensemble import RandomForestRegressor\n",
    "RegModel = RandomForestRegressor(max_depth=2, n_estimators=400,criterion='mse')\n",
    "# Good range for max_depth: 2-10 and n_estimators: 100-1000\n",
    "\n",
    "# Printing all the parameters of Random Forest\n",
    "print(RegModel)\n",
    "\n",
    "# Creating the model on Training Data\n",
    "RF=RegModel.fit(X_train,y_train)\n",
    "prediction=RF.predict(X_test)\n",
    "\n",
    "from sklearn import metrics\n",
    "# Measuring Goodness of fit in Training data\n",
    "print('R2 Value:',metrics.r2_score(y_train, RF.predict(X_train)))\n",
    "\n",
    "# Plotting the feature importance for Top 10 most important columns\n",
    "%matplotlib inline\n",
    "feature_importances = pd.Series(RF.feature_importances_, index=Predictors)\n",
    "feature_importances.nlargest(10).plot(kind='barh')\n",
    "\n",
    "###########################################################################\n",
    "print('\\n##### Model Validation and Accuracy Calculations ##########')\n",
    "\n",
    "# Printing some sample values of prediction\n",
    "TestingDataResults=pd.DataFrame(data=X_test, columns=Predictors)\n",
    "TestingDataResults[TargetVariable]=y_test\n",
    "TestingDataResults[('Predicted'+TargetVariable)]=np.round(prediction)\n",
    "\n",
    "# Printing sample prediction values\n",
    "print(TestingDataResults[[TargetVariable,'Predicted'+TargetVariable]].head())\n",
    "\n",
    "# Calculating the error for each row\n",
    "TestingDataResults['APE']=100 * ((abs(\n",
    "  TestingDataResults['Rating']-TestingDataResults['PredictedRating']))/TestingDataResults['Rating'])\n",
    "\n",
    "MAPE=np.mean(TestingDataResults['APE'])\n",
    "MedianMAPE=np.median(TestingDataResults['APE'])\n",
    "\n",
    "Accuracy =100 - MAPE\n",
    "MedianAccuracy=100- MedianMAPE\n",
    "print('Mean Accuracy on test data:', Accuracy) # Can be negative sometimes due to outlier\n",
    "print('Median Accuracy on test data:', MedianAccuracy)\n",
    "\n",
    "\n",
    "# Defining a custom function to calculate accuracy\n",
    "# Make sure there are no zeros in the Target variable if you are using MAPE\n",
    "def Accuracy_Score(orig,pred):\n",
    "    MAPE = np.mean(100 * (np.abs(orig-pred)/orig))\n",
    "    #print('#'*70,'Accuracy:', 100-MAPE)\n",
    "    return(100-MAPE)\n",
    "\n",
    "# Custom Scoring MAPE calculation\n",
    "from sklearn.metrics import make_scorer\n",
    "custom_Scoring=make_scorer(Accuracy_Score, greater_is_better=True)\n",
    "\n",
    "# Importing cross validation function from sklearn\n",
    "from sklearn.model_selection import cross_val_score\n",
    "\n",
    "# Running 10-Fold Cross validation on a given algorithm\n",
    "# Passing full data X and y because the K-fold will split the data and automatically choose train/test\n",
    "Accuracy_Values=cross_val_score(RegModel, X , y, cv=10, scoring=custom_Scoring)\n",
    "print('\\nAccuracy values for 10-fold Cross Validation:\\n',Accuracy_Values)\n",
    "print('\\nFinal Average Accuracy of the model:', round(Accuracy_Values.mean(),2))"
   ]
  },
  {
   "cell_type": "code",
   "execution_count": null,
   "id": "112320d5",
   "metadata": {},
   "outputs": [],
   "source": []
  },
  {
   "cell_type": "markdown",
   "id": "f9333848",
   "metadata": {},
   "source": [
    "## XGBoost Model"
   ]
  },
  {
   "cell_type": "code",
   "execution_count": 38,
   "id": "1a65154f",
   "metadata": {},
   "outputs": [
    {
     "name": "stdout",
     "output_type": "stream",
     "text": [
      "XGBRegressor(base_score=None, booster='gbtree', callbacks=None,\n",
      "             colsample_bylevel=None, colsample_bynode=None,\n",
      "             colsample_bytree=None, early_stopping_rounds=None,\n",
      "             enable_categorical=False, eval_metric=None, gamma=None,\n",
      "             gpu_id=None, grow_policy=None, importance_type=None,\n",
      "             interaction_constraints=None, learning_rate=0.1, max_bin=None,\n",
      "             max_cat_to_onehot=None, max_delta_step=None, max_depth=2,\n",
      "             max_leaves=None, min_child_weight=None, missing=nan,\n",
      "             monotone_constraints=None, n_estimators=1000, n_jobs=None,\n",
      "             num_parallel_tree=None, objective='reg:linear', predictor=None,\n",
      "             random_state=None, reg_alpha=None, ...)\n",
      "R2 Value: 0.9250152884865178\n",
      "\n",
      "##### Model Validation and Accuracy Calculations ##########\n",
      "   Rating  PredictedRating\n",
      "0     2.9              3.0\n",
      "1     3.7              3.0\n",
      "2     1.0              1.0\n",
      "3     1.0              1.0\n",
      "4     3.5              3.0\n",
      "Mean Accuracy on test data: 91.64145441195488\n",
      "Median Accuracy on test data: 93.75\n",
      "\n",
      "Accuracy values for 10-fold Cross Validation:\n",
      " [92.07203702 92.68395859 92.24115355 93.11667709 93.21490297 94.96045914\n",
      " 93.19251181 93.43370582 93.22015639 92.37322535]\n",
      "\n",
      "Final Average Accuracy of the model: 93.05\n"
     ]
    },
    {
     "data": {
      "image/png": "[encoded data removed]",
      "text/plain": [
       "<Figure size 432x288 with 1 Axes>"
      ]
     },
     "metadata": {
      "needs_background": "light"
     },
     "output_type": "display_data"
    }
   ],
   "source": [
    "# Xtreme Gradient Boosting (XGBoost)\n",
    "from xgboost import XGBRegressor\n",
    "RegModel=XGBRegressor(max_depth=2,learning_rate=0.1, verbosity = 0, silent=True, n_estimators=1000, objective='reg:linear',\n",
    "                      booster='gbtree')\n",
    "\n",
    "# Printing all the parameters of XGBoost\n",
    "print(RegModel)\n",
    "\n",
    "# Creating the model on Training Data\n",
    "XGB=RegModel.fit(X_train,y_train)\n",
    "prediction=XGB.predict(X_test)\n",
    "\n",
    "from sklearn import metrics\n",
    "# Measuring Goodness of fit in Training data\n",
    "print('R2 Value:',metrics.r2_score(y_train, XGB.predict(X_train)))\n",
    "\n",
    "# Plotting the feature importance for Top 10 most important columns\n",
    "%matplotlib inline\n",
    "feature_importances = pd.Series(XGB.feature_importances_, index=Predictors)\n",
    "feature_importances.nlargest(10).plot(kind='barh')\n",
    "###########################################################################\n",
    "print('\\n##### Model Validation and Accuracy Calculations ##########')\n",
    "\n",
    "# Printing some sample values of prediction\n",
    "TestingDataResults=pd.DataFrame(data=X_test, columns=Predictors)\n",
    "TestingDataResults[TargetVariable]=y_test\n",
    "TestingDataResults[('Predicted'+TargetVariable)]=np.round(prediction)\n",
    "\n",
    "# Printing sample prediction values\n",
    "print(TestingDataResults[[TargetVariable,'Predicted'+TargetVariable]].head())\n",
    "\n",
    "# Calculating the error for each row\n",
    "TestingDataResults['APE']=100 * ((abs(\n",
    "  TestingDataResults['Rating']-TestingDataResults['PredictedRating']))/TestingDataResults['Rating'])\n",
    "\n",
    "\n",
    "MAPE=np.mean(TestingDataResults['APE'])\n",
    "MedianMAPE=np.median(TestingDataResults['APE'])\n",
    "\n",
    "Accuracy =100 - MAPE\n",
    "MedianAccuracy=100- MedianMAPE\n",
    "print('Mean Accuracy on test data:', Accuracy) # Can be negative sometimes due to outlier\n",
    "print('Median Accuracy on test data:', MedianAccuracy)\n",
    "\n",
    "\n",
    "# Defining a custom function to calculate accuracy\n",
    "# Make sure there are no zeros in the Target variable if you are using MAPE\n",
    "def Accuracy_Score(orig,pred):\n",
    "    MAPE = np.mean(100 * (np.abs(orig-pred)/orig))\n",
    "    #print('#'*70,'Accuracy:', 100-MAPE)\n",
    "    return(100-MAPE)\n",
    "\n",
    "# Custom Scoring MAPE calculation\n",
    "from sklearn.metrics import make_scorer\n",
    "custom_Scoring=make_scorer(Accuracy_Score, greater_is_better=True)\n",
    "\n",
    "# Importing cross validation function from sklearn\n",
    "from sklearn.model_selection import cross_val_score\n",
    "\n",
    "# Running 10-Fold Cross validation on a given algorithm\n",
    "# Passing full data X and y because the K-fold will split the data and automatically choose train/test\n",
    "Accuracy_Values=cross_val_score(RegModel, X , y, cv=10, scoring=custom_Scoring)\n",
    "print('\\nAccuracy values for 10-fold Cross Validation:\\n',Accuracy_Values)\n",
    "print('\\nFinal Average Accuracy of the model:', round(Accuracy_Values.mean(),2))"
   ]
  },
  {
   "cell_type": "markdown",
   "id": "eaf19a95",
   "metadata": {},
   "source": [
    "# Deployment of the Model"
   ]
  },
  {
   "cell_type": "markdown",
   "id": "38e27b27",
   "metadata": {},
   "source": [
    "Based on the above trials you select that algorithm which produces the best average accuracy. In this case, multiple algorithms have produced similar kind of average accuracy. Hence, we can choose any one of them.\n",
    "\n",
    "I am choosing \"XGBoost Algorithm\" as the final model for predicting the ratings since it has highest accuracy and it also tries to utilize other features.Further, I have deployed this model by creating a streamlit application which has been put in a seperate file.\n",
    "\n",
    "Streamlit is an open source app framework in Python language. It helps us create web apps for data science and machine learning projects.\n",
    "\n"
   ]
  }
 ],
 "metadata": {
  "kernelspec": {
   "display_name": "Python 3 (ipykernel)",
   "language": "python",
   "name": "python3"
  },
  "language_info": {
   "codemirror_mode": {
    "name": "ipython",
    "version": 3
   },
   "file_extension": ".py",
   "mimetype": "text/x-python",
   "name": "python",
   "nbconvert_exporter": "python",
   "pygments_lexer": "ipython3",
   "version": "3.9.7"
  }
 },
 "nbformat": 4,
 "nbformat_minor": 5
}
